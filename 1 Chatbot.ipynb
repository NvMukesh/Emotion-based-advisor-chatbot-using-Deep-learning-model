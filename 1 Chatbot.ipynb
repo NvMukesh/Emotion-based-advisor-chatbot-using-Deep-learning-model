{
 "cells": [
  {
   "cell_type": "markdown",
   "metadata": {},
   "source": [
    "  <tr>\n",
    "        <td width=\"15%\">\n",
    "        </td>\n",
    "        <td>\n",
    "            <div align=\"Middle\">\n",
    "                <font size=25px>\n",
    "                    <b>  Emotion based advisor chatbot using Deep learning model\n",
    "                    </b>\n",
    "                </font>\n",
    "            </div>\n",
    "        </td>\n",
    "    </tr>"
   ]
  },
  {
   "cell_type": "markdown",
   "metadata": {},
   "source": [
    "## Problem Statement:\n",
    "In today's world what lots of people need is emotional companion or an advisor. This project is based on chatbots using deep learning model where it provided emotional motivation quotes based on user's feelings."
   ]
  },
  {
   "cell_type": "markdown",
   "metadata": {},
   "source": [
    "# Data Definition:\n",
    "\n",
    "*Here the dataset consists of chat between users and doctor regarding the psychological issues and and remedies"
   ]
  },
  {
   "cell_type": "markdown",
   "metadata": {},
   "source": [
    "# Content\n",
    "\n",
    "**[1. Import Python modules](#1)**<br>\n",
    "**[2. Load dataset dictionary](#2)**<br>&emsp;\n",
    "**[2.1. Descriptive statistics](#2.1)**<br>&emsp;\n",
    "**[2.2. No. count of responses based on topics](#2.2)**<br>\n",
    "**[3. Data modeling](#3)**<br>&emsp;\n",
    "**[3.1. Data preparation](#3.1)**<br>&emsp;\n",
    "**[3.2. Label encoding](#3.2)**<br>&emsp;\n",
    "**[3.3. Vectorizing the data](#3.3)**<br>\n",
    "**[4. Buliding the Model](#4)**<br>&emsp;\n",
    "**[4.1. Fitting the model](#4.1)**<br>\n",
    "**[5. Saving the Model](#5)**<br>&emsp;\n",
    "**[5.1. Save the fitted tokenizer and label encoder](#5.1)**<br>\n",
    "**[6. Inference - Simple chat model](#6)**<br>&emsp;\n",
    "**[6.1. Chatbot](#6.1)**<br>\n",
    "\n"
   ]
  },
  {
   "cell_type": "markdown",
   "metadata": {},
   "source": [
    "<a id='1'></a>\n",
    "## 1. Import Python modules"
   ]
  },
  {
   "cell_type": "code",
   "execution_count": 1,
   "metadata": {},
   "outputs": [],
   "source": [
    "import json \n",
    "import numpy as np \n",
    "import tensorflow as tf\n",
    "from tensorflow import keras\n",
    "from tensorflow.keras.models import Sequential\n",
    "from tensorflow.keras.layers import Dense, Embedding, GlobalAveragePooling1D,Dropout\n",
    "from tensorflow.keras.preprocessing.text import Tokenizer\n",
    "from tensorflow.keras.preprocessing.sequence import pad_sequences\n",
    "\n",
    "from tensorflow.keras.layers.experimental.preprocessing import TextVectorization\n",
    "\n",
    "\n",
    "from keras.preprocessing.text import Tokenizer\n",
    "#from keras.preprocessing.sequence import pad_sequences\n",
    "from keras.layers import Dense, Embedding, LSTM, SpatialDropout1D, Bidirectional, Dropout\n",
    "from sklearn.preprocessing import LabelEncoder\n",
    "import warnings\n",
    "warnings.filterwarnings(\"ignore\")\n",
    "\n",
    "\n",
    "import pandas as pd\n",
    "import matplotlib.pyplot as plt\n",
    "import seaborn as sns"
   ]
  },
  {
   "cell_type": "markdown",
   "metadata": {},
   "source": [
    "<a id='2'></a>\n",
    "## 2. Load dataset dictionary"
   ]
  },
  {
   "cell_type": "code",
   "execution_count": 3,
   "metadata": {
    "scrolled": true
   },
   "outputs": [
    {
     "data": {
      "text/html": [
       "<div>\n",
       "<style scoped>\n",
       "    .dataframe tbody tr th:only-of-type {\n",
       "        vertical-align: middle;\n",
       "    }\n",
       "\n",
       "    .dataframe tbody tr th {\n",
       "        vertical-align: top;\n",
       "    }\n",
       "\n",
       "    .dataframe thead th {\n",
       "        text-align: right;\n",
       "    }\n",
       "</style>\n",
       "<table border=\"1\" class=\"dataframe\">\n",
       "  <thead>\n",
       "    <tr style=\"text-align: right;\">\n",
       "      <th></th>\n",
       "      <th>Unnamed: 0</th>\n",
       "      <th>questionID</th>\n",
       "      <th>questionTitle</th>\n",
       "      <th>questionText</th>\n",
       "      <th>questionLink</th>\n",
       "      <th>topic</th>\n",
       "      <th>therapistInfo</th>\n",
       "      <th>therapistURL</th>\n",
       "      <th>answerText</th>\n",
       "      <th>upvotes</th>\n",
       "      <th>views</th>\n",
       "      <th>split</th>\n",
       "    </tr>\n",
       "  </thead>\n",
       "  <tbody>\n",
       "    <tr>\n",
       "      <th>0</th>\n",
       "      <td>0</td>\n",
       "      <td>0</td>\n",
       "      <td>Can I change my feeling of being worthless to ...</td>\n",
       "      <td>I'm going through some things with my feelings...</td>\n",
       "      <td>https://counselchat.com/questions/can-i-change...</td>\n",
       "      <td>depression</td>\n",
       "      <td>Sherry Katz, LCSWCouples and Family Therapist,...</td>\n",
       "      <td>https://counselchat.com/therapists/sherry-katz...</td>\n",
       "      <td>If everyone thinks you're worthless, then mayb...</td>\n",
       "      <td>1</td>\n",
       "      <td>2899</td>\n",
       "      <td>train</td>\n",
       "    </tr>\n",
       "    <tr>\n",
       "      <th>1</th>\n",
       "      <td>1</td>\n",
       "      <td>0</td>\n",
       "      <td>Can I change my feeling of being worthless to ...</td>\n",
       "      <td>I'm going through some things with my feelings...</td>\n",
       "      <td>https://counselchat.com/questions/can-i-change...</td>\n",
       "      <td>depression</td>\n",
       "      <td>Robin Landwehr, DBH, LPCC, NCCMental Health in...</td>\n",
       "      <td>https://counselchat.com/therapists/robin-landw...</td>\n",
       "      <td>Hello, and thank you for your question and see...</td>\n",
       "      <td>1</td>\n",
       "      <td>3514</td>\n",
       "      <td>train</td>\n",
       "    </tr>\n",
       "    <tr>\n",
       "      <th>2</th>\n",
       "      <td>2</td>\n",
       "      <td>0</td>\n",
       "      <td>Can I change my feeling of being worthless to ...</td>\n",
       "      <td>I'm going through some things with my feelings...</td>\n",
       "      <td>https://counselchat.com/questions/can-i-change...</td>\n",
       "      <td>depression</td>\n",
       "      <td>Lee KingI use an integrative approach to treat...</td>\n",
       "      <td>https://counselchat.com/therapists/lee-king</td>\n",
       "      <td>First thing I'd suggest is getting the sleep y...</td>\n",
       "      <td>0</td>\n",
       "      <td>5</td>\n",
       "      <td>train</td>\n",
       "    </tr>\n",
       "    <tr>\n",
       "      <th>3</th>\n",
       "      <td>3</td>\n",
       "      <td>0</td>\n",
       "      <td>Can I change my feeling of being worthless to ...</td>\n",
       "      <td>I'm going through some things with my feelings...</td>\n",
       "      <td>https://counselchat.com/questions/can-i-change...</td>\n",
       "      <td>depression</td>\n",
       "      <td>Shauntai Davis-YearginPersonalized, private on...</td>\n",
       "      <td>https://counselchat.com/therapists/shauntai-da...</td>\n",
       "      <td>Therapy is essential for those that are feelin...</td>\n",
       "      <td>0</td>\n",
       "      <td>31</td>\n",
       "      <td>train</td>\n",
       "    </tr>\n",
       "    <tr>\n",
       "      <th>4</th>\n",
       "      <td>4</td>\n",
       "      <td>0</td>\n",
       "      <td>Can I change my feeling of being worthless to ...</td>\n",
       "      <td>I'm going through some things with my feelings...</td>\n",
       "      <td>https://counselchat.com/questions/can-i-change...</td>\n",
       "      <td>depression</td>\n",
       "      <td>Jordan WhiteLicensed Social Worker at Oak Root...</td>\n",
       "      <td>https://counselchat.com/therapists/jordan-white</td>\n",
       "      <td>I first want to let you know that you are not ...</td>\n",
       "      <td>0</td>\n",
       "      <td>620</td>\n",
       "      <td>train</td>\n",
       "    </tr>\n",
       "  </tbody>\n",
       "</table>\n",
       "</div>"
      ],
      "text/plain": [
       "   Unnamed: 0  questionID                                      questionTitle  \\\n",
       "0           0           0  Can I change my feeling of being worthless to ...   \n",
       "1           1           0  Can I change my feeling of being worthless to ...   \n",
       "2           2           0  Can I change my feeling of being worthless to ...   \n",
       "3           3           0  Can I change my feeling of being worthless to ...   \n",
       "4           4           0  Can I change my feeling of being worthless to ...   \n",
       "\n",
       "                                        questionText  \\\n",
       "0  I'm going through some things with my feelings...   \n",
       "1  I'm going through some things with my feelings...   \n",
       "2  I'm going through some things with my feelings...   \n",
       "3  I'm going through some things with my feelings...   \n",
       "4  I'm going through some things with my feelings...   \n",
       "\n",
       "                                        questionLink       topic  \\\n",
       "0  https://counselchat.com/questions/can-i-change...  depression   \n",
       "1  https://counselchat.com/questions/can-i-change...  depression   \n",
       "2  https://counselchat.com/questions/can-i-change...  depression   \n",
       "3  https://counselchat.com/questions/can-i-change...  depression   \n",
       "4  https://counselchat.com/questions/can-i-change...  depression   \n",
       "\n",
       "                                       therapistInfo  \\\n",
       "0  Sherry Katz, LCSWCouples and Family Therapist,...   \n",
       "1  Robin Landwehr, DBH, LPCC, NCCMental Health in...   \n",
       "2  Lee KingI use an integrative approach to treat...   \n",
       "3  Shauntai Davis-YearginPersonalized, private on...   \n",
       "4  Jordan WhiteLicensed Social Worker at Oak Root...   \n",
       "\n",
       "                                        therapistURL  \\\n",
       "0  https://counselchat.com/therapists/sherry-katz...   \n",
       "1  https://counselchat.com/therapists/robin-landw...   \n",
       "2        https://counselchat.com/therapists/lee-king   \n",
       "3  https://counselchat.com/therapists/shauntai-da...   \n",
       "4    https://counselchat.com/therapists/jordan-white   \n",
       "\n",
       "                                          answerText  upvotes  views  split  \n",
       "0  If everyone thinks you're worthless, then mayb...        1   2899  train  \n",
       "1  Hello, and thank you for your question and see...        1   3514  train  \n",
       "2  First thing I'd suggest is getting the sleep y...        0      5  train  \n",
       "3  Therapy is essential for those that are feelin...        0     31  train  \n",
       "4  I first want to let you know that you are not ...        0    620  train  "
      ]
     },
     "execution_count": 3,
     "metadata": {},
     "output_type": "execute_result"
    }
   ],
   "source": [
    "df = pd.read_csv(r\"E:\\DS workspace\\ML DL Python\\Project\\chat corpus\\data\\counsel_chat.csv\", encoding='utf-8')\n",
    "df.head()"
   ]
  },
  {
   "cell_type": "code",
   "execution_count": 12,
   "metadata": {},
   "outputs": [
    {
     "data": {
      "text/plain": [
       "Index(['Unnamed: 0', 'questionID', 'questionTitle', 'questionText',\n",
       "       'questionLink', 'topic', 'therapistInfo', 'therapistURL', 'answerText',\n",
       "       'upvotes', 'views', 'split'],\n",
       "      dtype='object')"
      ]
     },
     "execution_count": 12,
     "metadata": {},
     "output_type": "execute_result"
    }
   ],
   "source": [
    "df.columns"
   ]
  },
  {
   "cell_type": "code",
   "execution_count": 14,
   "metadata": {},
   "outputs": [
    {
     "name": "stdout",
     "output_type": "stream",
     "text": [
      "<class 'pandas.core.frame.DataFrame'>\n",
      "RangeIndex: 2129 entries, 0 to 2128\n",
      "Data columns (total 12 columns):\n",
      " #   Column         Non-Null Count  Dtype \n",
      "---  ------         --------------  ----- \n",
      " 0   Unnamed: 0     2129 non-null   int64 \n",
      " 1   questionID     2129 non-null   int64 \n",
      " 2   questionTitle  2129 non-null   object\n",
      " 3   questionText   2129 non-null   object\n",
      " 4   questionLink   2129 non-null   object\n",
      " 5   topic          2129 non-null   object\n",
      " 6   therapistInfo  2129 non-null   object\n",
      " 7   therapistURL   2129 non-null   object\n",
      " 8   answerText     2129 non-null   object\n",
      " 9   upvotes        2129 non-null   int64 \n",
      " 10  views          2129 non-null   int64 \n",
      " 11  split          2129 non-null   object\n",
      "dtypes: int64(4), object(8)\n",
      "memory usage: 199.7+ KB\n"
     ]
    }
   ],
   "source": [
    "df.info()"
   ]
  },
  {
   "cell_type": "markdown",
   "metadata": {},
   "source": [
    "<a id='2.1'></a>\n",
    "### 2.1. No. count of responses based on topics Descriptive statistics"
   ]
  },
  {
   "cell_type": "code",
   "execution_count": 5,
   "metadata": {},
   "outputs": [
    {
     "data": {
      "text/plain": [
       "(307, 11)"
      ]
     },
     "execution_count": 5,
     "metadata": {},
     "output_type": "execute_result"
    }
   ],
   "source": [
    "df.groupby(\"therapistURL\").agg(\"count\").shape"
   ]
  },
  {
   "cell_type": "code",
   "execution_count": 6,
   "metadata": {},
   "outputs": [
    {
     "data": {
      "text/plain": [
       "31"
      ]
     },
     "execution_count": 6,
     "metadata": {},
     "output_type": "execute_result"
    }
   ],
   "source": [
    "len(set(df[\"topic\"].tolist()))"
   ]
  },
  {
   "cell_type": "code",
   "execution_count": 7,
   "metadata": {},
   "outputs": [
    {
     "data": {
      "text/plain": [
       "(2129, 12)"
      ]
     },
     "execution_count": 7,
     "metadata": {},
     "output_type": "execute_result"
    }
   ],
   "source": [
    "df.shape"
   ]
  },
  {
   "cell_type": "code",
   "execution_count": 8,
   "metadata": {},
   "outputs": [
    {
     "data": {
      "text/plain": [
       "824"
      ]
     },
     "execution_count": 8,
     "metadata": {},
     "output_type": "execute_result"
    }
   ],
   "source": [
    "len(set(df[\"questionLink\"].tolist()))"
   ]
  },
  {
   "cell_type": "code",
   "execution_count": 9,
   "metadata": {},
   "outputs": [
    {
     "data": {
      "text/html": [
       "<div>\n",
       "<style scoped>\n",
       "    .dataframe tbody tr th:only-of-type {\n",
       "        vertical-align: middle;\n",
       "    }\n",
       "\n",
       "    .dataframe tbody tr th {\n",
       "        vertical-align: top;\n",
       "    }\n",
       "\n",
       "    .dataframe thead th {\n",
       "        text-align: right;\n",
       "    }\n",
       "</style>\n",
       "<table border=\"1\" class=\"dataframe\">\n",
       "  <thead>\n",
       "    <tr style=\"text-align: right;\">\n",
       "      <th></th>\n",
       "      <th>Unnamed: 0</th>\n",
       "      <th>questionID</th>\n",
       "      <th>questionTitle</th>\n",
       "      <th>questionText</th>\n",
       "      <th>topic</th>\n",
       "      <th>therapistInfo</th>\n",
       "      <th>therapistURL</th>\n",
       "      <th>answerText</th>\n",
       "      <th>upvotes</th>\n",
       "      <th>views</th>\n",
       "      <th>split</th>\n",
       "    </tr>\n",
       "  </thead>\n",
       "  <tbody>\n",
       "    <tr>\n",
       "      <th>count</th>\n",
       "      <td>824.000000</td>\n",
       "      <td>824.000000</td>\n",
       "      <td>824.000000</td>\n",
       "      <td>824.000000</td>\n",
       "      <td>824.000000</td>\n",
       "      <td>824.000000</td>\n",
       "      <td>824.000000</td>\n",
       "      <td>824.000000</td>\n",
       "      <td>824.000000</td>\n",
       "      <td>824.000000</td>\n",
       "      <td>824.000000</td>\n",
       "    </tr>\n",
       "    <tr>\n",
       "      <th>mean</th>\n",
       "      <td>2.583738</td>\n",
       "      <td>2.583738</td>\n",
       "      <td>2.583738</td>\n",
       "      <td>2.583738</td>\n",
       "      <td>2.583738</td>\n",
       "      <td>2.583738</td>\n",
       "      <td>2.583738</td>\n",
       "      <td>2.583738</td>\n",
       "      <td>2.583738</td>\n",
       "      <td>2.583738</td>\n",
       "      <td>2.583738</td>\n",
       "    </tr>\n",
       "    <tr>\n",
       "      <th>std</th>\n",
       "      <td>4.982621</td>\n",
       "      <td>4.982621</td>\n",
       "      <td>4.982621</td>\n",
       "      <td>4.982621</td>\n",
       "      <td>4.982621</td>\n",
       "      <td>4.982621</td>\n",
       "      <td>4.982621</td>\n",
       "      <td>4.982621</td>\n",
       "      <td>4.982621</td>\n",
       "      <td>4.982621</td>\n",
       "      <td>4.982621</td>\n",
       "    </tr>\n",
       "    <tr>\n",
       "      <th>min</th>\n",
       "      <td>1.000000</td>\n",
       "      <td>1.000000</td>\n",
       "      <td>1.000000</td>\n",
       "      <td>1.000000</td>\n",
       "      <td>1.000000</td>\n",
       "      <td>1.000000</td>\n",
       "      <td>1.000000</td>\n",
       "      <td>1.000000</td>\n",
       "      <td>1.000000</td>\n",
       "      <td>1.000000</td>\n",
       "      <td>1.000000</td>\n",
       "    </tr>\n",
       "    <tr>\n",
       "      <th>25%</th>\n",
       "      <td>1.000000</td>\n",
       "      <td>1.000000</td>\n",
       "      <td>1.000000</td>\n",
       "      <td>1.000000</td>\n",
       "      <td>1.000000</td>\n",
       "      <td>1.000000</td>\n",
       "      <td>1.000000</td>\n",
       "      <td>1.000000</td>\n",
       "      <td>1.000000</td>\n",
       "      <td>1.000000</td>\n",
       "      <td>1.000000</td>\n",
       "    </tr>\n",
       "    <tr>\n",
       "      <th>50%</th>\n",
       "      <td>1.000000</td>\n",
       "      <td>1.000000</td>\n",
       "      <td>1.000000</td>\n",
       "      <td>1.000000</td>\n",
       "      <td>1.000000</td>\n",
       "      <td>1.000000</td>\n",
       "      <td>1.000000</td>\n",
       "      <td>1.000000</td>\n",
       "      <td>1.000000</td>\n",
       "      <td>1.000000</td>\n",
       "      <td>1.000000</td>\n",
       "    </tr>\n",
       "    <tr>\n",
       "      <th>75%</th>\n",
       "      <td>2.000000</td>\n",
       "      <td>2.000000</td>\n",
       "      <td>2.000000</td>\n",
       "      <td>2.000000</td>\n",
       "      <td>2.000000</td>\n",
       "      <td>2.000000</td>\n",
       "      <td>2.000000</td>\n",
       "      <td>2.000000</td>\n",
       "      <td>2.000000</td>\n",
       "      <td>2.000000</td>\n",
       "      <td>2.000000</td>\n",
       "    </tr>\n",
       "    <tr>\n",
       "      <th>max</th>\n",
       "      <td>94.000000</td>\n",
       "      <td>94.000000</td>\n",
       "      <td>94.000000</td>\n",
       "      <td>94.000000</td>\n",
       "      <td>94.000000</td>\n",
       "      <td>94.000000</td>\n",
       "      <td>94.000000</td>\n",
       "      <td>94.000000</td>\n",
       "      <td>94.000000</td>\n",
       "      <td>94.000000</td>\n",
       "      <td>94.000000</td>\n",
       "    </tr>\n",
       "  </tbody>\n",
       "</table>\n",
       "</div>"
      ],
      "text/plain": [
       "       Unnamed: 0  questionID  questionTitle  questionText       topic  \\\n",
       "count  824.000000  824.000000     824.000000    824.000000  824.000000   \n",
       "mean     2.583738    2.583738       2.583738      2.583738    2.583738   \n",
       "std      4.982621    4.982621       4.982621      4.982621    4.982621   \n",
       "min      1.000000    1.000000       1.000000      1.000000    1.000000   \n",
       "25%      1.000000    1.000000       1.000000      1.000000    1.000000   \n",
       "50%      1.000000    1.000000       1.000000      1.000000    1.000000   \n",
       "75%      2.000000    2.000000       2.000000      2.000000    2.000000   \n",
       "max     94.000000   94.000000      94.000000     94.000000   94.000000   \n",
       "\n",
       "       therapistInfo  therapistURL  answerText     upvotes       views  \\\n",
       "count     824.000000    824.000000  824.000000  824.000000  824.000000   \n",
       "mean        2.583738      2.583738    2.583738    2.583738    2.583738   \n",
       "std         4.982621      4.982621    4.982621    4.982621    4.982621   \n",
       "min         1.000000      1.000000    1.000000    1.000000    1.000000   \n",
       "25%         1.000000      1.000000    1.000000    1.000000    1.000000   \n",
       "50%         1.000000      1.000000    1.000000    1.000000    1.000000   \n",
       "75%         2.000000      2.000000    2.000000    2.000000    2.000000   \n",
       "max        94.000000     94.000000   94.000000   94.000000   94.000000   \n",
       "\n",
       "            split  \n",
       "count  824.000000  \n",
       "mean     2.583738  \n",
       "std      4.982621  \n",
       "min      1.000000  \n",
       "25%      1.000000  \n",
       "50%      1.000000  \n",
       "75%      2.000000  \n",
       "max     94.000000  "
      ]
     },
     "execution_count": 9,
     "metadata": {},
     "output_type": "execute_result"
    }
   ],
   "source": [
    "df.groupby(\"questionLink\").agg(\"count\").describe()"
   ]
  },
  {
   "cell_type": "markdown",
   "metadata": {},
   "source": [
    "<a id='2.2'></a>\n",
    "### 2.2. No. count of responses based on topics "
   ]
  },
  {
   "cell_type": "code",
   "execution_count": 6,
   "metadata": {},
   "outputs": [
    {
     "data": {
      "image/png": "[encoded data removed]",
      "text/plain": [
       "<Figure size 1440x720 with 1 Axes>"
      ]
     },
     "metadata": {
      "needs_background": "light"
     },
     "output_type": "display_data"
    }
   ],
   "source": [
    "fig, ax = plt.subplots(figsize=(20, 10))\n",
    "df.groupby(\"topic\").agg(\"count\")[\"questionID\"].sort_values(ascending=False).plot.bar(ax=ax)\n",
    "ax.set_title(\"Number of Responses by Topic\", fontsize=30)\n",
    "ax.set_xlabel(\"Topic\", fontsize=25)\n",
    "ax.set_ylabel(\"Number of Responses\", fontsize=25)\n",
    "ax.set_xticklabels(ax.get_xticklabels(), fontsize=17)\n",
    "plt.tight_layout()"
   ]
  },
  {
   "cell_type": "markdown",
   "metadata": {},
   "source": [
    "<a id='3'></a>\n",
    "## 3. Data modeling"
   ]
  },
  {
   "cell_type": "markdown",
   "metadata": {},
   "source": [
    "### Data modeling for this chatbot is done using Excel and texteditior outside this IDE"
   ]
  },
  {
   "cell_type": "markdown",
   "metadata": {},
   "source": [
    "<a id='3.1'></a>\n",
    "###  3.1. Data preparation"
   ]
  },
  {
   "cell_type": "markdown",
   "metadata": {},
   "source": [
    "### importing the JSON data modeled JSON file"
   ]
  },
  {
   "cell_type": "code",
   "execution_count": 16,
   "metadata": {},
   "outputs": [],
   "source": [
    "with open(r\"E:\\DS workspace\\ML DL Python\\Project\\chat corpus\\chat_corpus - Copy.json\") as file:\n",
    "    data = json.load(file)"
   ]
  },
  {
   "cell_type": "code",
   "execution_count": 17,
   "metadata": {},
   "outputs": [
    {
     "data": {
      "text/plain": [
       "{'chat_corpus': [{'tag': 'greeting1',\n",
       "   'patterns': ['Hi', 'Hey', 'Is anyone there?', 'Hello', 'whatup'],\n",
       "   'responses': ['Hello', 'Hi', 'Hi there', 'Hello sunshine!']},\n",
       "  {'tag': 'goodbye',\n",
       "   'patterns': ['Bye', 'See you later', 'Goodbye'],\n",
       "   'responses': ['See you later',\n",
       "    'Have a nice day',\n",
       "    'Bye! Come back again',\n",
       "    'It Was a Great Pleasure Talking to You']},\n",
       "  {'tag': 'thanks',\n",
       "   'patterns': ['Thanks',\n",
       "    'Thank you',\n",
       "    'Thats helpful',\n",
       "    'Thanks for the help',\n",
       "    'thank you that was helpful'],\n",
       "   'responses': ['Happy to help!',\n",
       "    'Any time!',\n",
       "    'My pleasure',\n",
       "    'Youre most welcome!']},\n",
       "  {'tag': 'about1',\n",
       "   'patterns': ['Who are you?', 'What are you?', 'Who you are?'],\n",
       "   'responses': ['Im HAL 9000 your bot assistant',\n",
       "    'Im HAL 9000, an Artificial Intelligent bot']},\n",
       "  {'tag': 'depression1',\n",
       "   'patterns': ['Im going through some things with my feelings and myself. I barely sleep and I do nothing but think about how Im worthless and how I shouldnt be here.    Ive never tried or contemplated suicide. Ive always wanted to fix my issues, but I never get around to it',\n",
       "    'How can I change my feeling of being worthless to everyone?',\n",
       "    'Im going through some things with my feelings and myself. I barely sleep and I do nothing but think about how Im worthless and how I shouldnt be here.    Ive never tried or contemplated suicide. Ive always wanted to fix my issues, but I never get around to it.',\n",
       "    'im feeling down',\n",
       "    'im feeling depressed'],\n",
       "   'responses': ['If everyone thinks youre worthless, then maybe you need to find new people to hang out with.Seriously, the social context in which a person lives is a big influence in self-esteem.Otherwise, you can go round and round trying to understand why youre not worthless, then go back to the same crowd and be knocked down again.There are many inspirational messages you can find in social media. Maybe read some of the ones which state that no person is worthless, and that everyone has a good purpose to their life.Also, since our culture is so saturated with the belief that if someone doesnt feel good about themselves that this is somehow terrible.Bad feelings are part of living. They are the motivation to remove ourselves from situations and relationships which do us more harm than good.Bad feelings do feel terrible.  Your feeling of worthlessness may be good in the sense of motivating you to find out that you are much better than your feelings today.',\n",
       "    'Hello, and thank you for your question and seeking advice on this. Feelings of worthlessness is unfortunately common. In fact, most people, if not all, have felt this to some degree at some point in their life. You are not alone.Changing our feelings is like changing our thoughts - its hard to do. Our minds are so amazing that the minute you change your thought another one can be right there to take its place. Without your permission, another thought can just pop in there. The new thought may feel worse than the last one! My guess is that you have tried several things to improve this on your own even before reaching out on here. People often try thinking positive thoughts, debating with their thoughts, or simply telling themselves that they need to \"snap out of it\" - which is also a thought that carries some self-criticism.Some people try a different approach, and there are counselors out there that can help you with this. The idea is that instead of trying to change the thoughts, you change how you respond to them. You learn skills that allow you to manage difficult thoughts and feelings differently so they dont have the same impact on you that they do right now. For some people, they actually DO begin to experience less hurtful thoughts once they learn how to manage the ones they have differently. Acceptance and Commitment Therapy may be a good choice for you.There is information online and even self-help books that you can use to teach you the skills that I mentioned. Because they are skills, they require practice, but many people have found great relief and an enriched life by learning them.As for suicidal thoughts, I am very glad to read that this has not happened to you. Still, you should watch out for this because it can be a sign of a worsening depression. If you begin to think about this, it is important to reach out to a support system right away. The National Suicide Prevention Lifeline is 1-800-273-8255. The text line is #741741.I hope some other colleagues will provide you more suggestions.Be well...Robin Landwehr, DBH, LPCC',\n",
       "    'First thing Id suggest is getting the sleep you need or it will impact how you think and feel. Id look at finding what is going well in your life and what you can be grateful for. I believe everyone has talents and wants to find their purpose in life. I think you can figure it out with some help.',\n",
       "    'Therapy is essential for those that are feeling depressed and worthless. When I work with those that are experiencing concerns related to feeling of depression and issues with self esteem. I generally work with my client to help build coping skills to reduce level of depression and to assist with strengthening self esteem, by guiding my client with CBT practices. CBT helps with gaining a better awareness of how your thought process influences yourbelief system, and how your beliefs impact your actions and the outcome of your behaviors. This process isnt easy but it helps teach an individual that we dont always have control over what happens in our lives but we can control how we interpret, feel, and behave. CBT is good for individuals dealing with depression, anxiety, toxic relationships, stress, self esteem, codependency, etc.',\n",
       "    'I first want to let you know that you are not alone in your feelings and there is always someone there to help. You can always change your feelings and change your way of thinking by being open to trying to change. You can always make yourself available to learning new things or volunteering so that you can make a purpose for yourself.']},\n",
       "  {'tag': 'anxiety1',\n",
       "   'patterns': ['my hand are shaking due to anxiety',\n",
       "    'how to deal with anxiety',\n",
       "    'When Im in large crowds I get angry and I just cant deal with people. I dont really like other people (I prefer animals) they make me nervous and scared.    I lay awake at night thinking and having conversations in my head and i almost always end up making myself feel terrible and crying, I have more conversions in my head than I do with actual people.    I dont know whats wrong with me and why I feel this way. What should I do?'],\n",
       "   'responses': ['What you are experiencing is totally normal and these emotions mean you are human! Humans are social creatures who were created to be in connection with others, but sometimes our life experiences or genetics can make that more difficult for some of us.It is possible that these reactions are based on negative reactions you have had with others in the past, maybe your family, or other traumatic interactions with others. It is also possible that they are caused by an underlying condition such as anxiety or depression, which may cause you to be more uncomfortable around others or annoyed by others. Some people are also more bothered by crowded spaces, loud interactions, and the actions of others.Of course you prefer animals (me too!), they provide unconditional love and support, do not judge you, and do not require you to have conversations with them.The fact that you have conversations in your head at night tells me that although you say you do not like people, you are craving some social connection. What is probably the case is that you were never really taught how to interact and have those conversations. The good news is that there is nothing wrong with you, you just need a little help learning how to have these conversations and taking some healthy risks to initiate conversations and that is something that I help many of my clients with in therapy.',\n",
       "    'I am very sorry to hear that you are going through this! While animals can be a wonderful way to experience emotional support, you may want to consider opening up to a Life Coach or therapist to discuss some of your concerns. You are not alone, and many people are experiencing very similar anxieties. A Life Coach or professional therapist could help to guide you through these emotions and refer you to additional professional help if needed. It sounds as though you want to address some of these issues by first asking the question. Finding additional support from a trained professional whom you feel comfortable with could be the best way to get the help that you need. I wish you the best of luck on your journey!',\n",
       "    'You are a unique individual exhibiting some of the traits of a specific type of temperament. Through temperament counseling you can come to know, accept, and manage your God-given temperament to become all that God intended. There is nothing wrong with you -- God loves you as you are and wants to help you balance your temperament needs.',\n",
       "    'The thing I picked up immediately in what youre asking is how you dont like other people because they make me nervous and scared. If someone said that to me in a therapy session, Id want to understand this much more with them, and what this nervous and scared experience is all about: perhaps starting with the question, whats the earliest memory you have of feeling uncomfortable around people. The idea would be to try to understand all of what it means for you to be around people, and the history of the experience, without labeling it wrong or passing judgment on it.From there what might come is that certain people, and their character traits, might be harder to be around for you because of experiences that youve had with similar situations in your life. Or, it could certainly be something completely different. It would be most important to understand it much more deeply considering the amount of distress it causes you, and in doing so we could begin to see it as normal for me.',\n",
       "    'What youre experiencing is anxiety, its actually quite common. Good news - youre not alone in this experience! That being said, it can be so frustrating and upsetting to have to contend with the anxious thoughts that come up in our heads, sometimes without any warning. Additionally, nighttime is a particularly vulnerable time for a lot of people wherein anxiety rears its ugly head even more so. We arent as distracted at night and our resources are more depleted so we cant fight back against these thoughts as effectively as usual.It can be helpful to externalize our anxiety, give it a name, like \"Judy\" or \"Bill\" for example (or perhaps something more sinister like Lord Garmadon??). The naming is all up to you, what comes to mind for you when you think of your anxiety, now what is a name thats fitting? The act of externalizing separates us from the anxiety a bit and makes it a little more tolerable. If you can think of your anxiety as just something else to handle rather than it being a part of your personality, this is usually helpful.Additionally, I recommend not avoiding the situations that make you feel this way. Our brains have to learn what is an actual threat and what is not. Right now, your brain thinks that crowds are a threat, if you can practice some deep breathing and stay in the crowd, you will start to teach (or rewire) your brain, letting it know that the crowd is not dangerous to you. Think of your brain as an overprotective parent. Your brain is overreacting in these situations to try and keep you safe. It just needs to learn that the situation is not a danger to begin with.']},\n",
       "  {'tag': 'self-esteem1',\n",
       "   'patterns': ['i suffer from low self esteem',\n",
       "    'how to improve my self esteem',\n",
       "    'All my friends have either hooked up or had a girlfriend but me. I try to be happy for them, but I get really upset every time they hook up.',\n",
       "    'Im always told Im not good enough or trying hard enough. I put 100% in to every thing. Im worn out, Ive worked on all of my family relationships, Im doing great in school, Im kind to those in need and otherwise. I stick to my religious beliefs and leave room for mistakes and learn from others so I dont have to make as many and the ones I do I learn from.  Somehow its still not good enough and nothing I do works. Nothing has changed, and I feel hopeless. Any suggestions or ideas?'],\n",
       "   'responses': ['If you mean hooked up as having sex with no care for the person, and youd like a girlfriend, then realize relationships require more complex alignment with a partner than being a sex buddy.Pay attention to all your feelings toward a girl so that youll approach someone who attracts you for reasons in addition to sexual allure.Also, the process of knowing someone takes much more time than only to sleep with someone.Have patience and kindness toward yourself while you get to know the qualities which attract you to a potential girlfriend.',\n",
       "    'Hi, Im Amelia! Oh, this is a common problem, unfortunately! Let me say first of all, that doing more, giving more, loving more, performing more will never provide you with a sense of worth. Nor will it satisfy those that are critical and judgmental. I am so sorry to hear that this is what youve heard all your life! You are a human BEING not a human DOING.If you can get yourself in counseling with a trusted therapist who will accept you, encourage you, hear you and support you, you can begin to work on what truth worth is. My best to you!',\n",
       "    'It sounds like you are aware of your positive traits but youare struggling with someone who does not acknowledge nor celebrate your efforts or achievements. It seems like that is affecting your inner voice, which allows you to accept yourself for who you are.My suggestion is to explore that relationshipand decide if that persons opinion should determine how you feel about yourself. If this is an important relationship, you could communicate to this person how the lack of positive feedback is affecting you. Then, work on spending more time with those who value you, and can give you praise, encouragement, and constructive criticism. Also, explore your religious beliefs, and what is they say about who you are as a person. Finally, explore with a Counselor your inner voice and try to figure out if the negative message is settling in and harming your self-esteem. Through therapy, you could learn to self-compassion and acceptance wich will help your self esteem.¿Cómo manejo el sentirme que “no soy suficiente bueno?Siempre me dicen que no soy suficientemente bueno o no trato lo suficiente. Yo pongo el 100% en todo. Estoy agotado, he trabajado en todas mis relaciones, estoy muy bien en la escuela, trato bien a las personas que lo necesitan. Me aferro a mis creencias religiosas y dejo espacio para los errores, y aprendo de otros para no tener que cometer los mismos. Aun así no soy suficiente y nada de lo que hago funciona, me siento desesperanzado. ¿Alguna idea o sugerencia?Al parecer estas consiente de tus características positivas, pero estás teniendo dificultad con alguien que no reconoce tus esfuerzos, ni logros, y eso está afectando esa voz interior que te permite aceptar quien eres.Mi sugerencia es que explores esa relación y analices si la opinión de esta persona va a determinar cómo te valoras a ti mismo. Si es una relación valiosa, puedes comunicarle a la persona en cuestión como te afecta la falta de comentarios y opiniones positivas. Luego enfócate en pasar más tiempo con personas que te valoran, te dan halagos, te motivan y te aconsejan. También explora que dice tu religión sobre quién eres como persona y cuál es tu valor. Y por último, explora con tu Consejero si ese mensaje negativo esta afectando tu autoestima. A través de la terapia puedes aprender tecnicas auto compasión y aceptación que ayudaran a fortalecerte.',\n",
       "    'The feeling of never feeling good enough usually stems from our early relationship with ourparents or significant role models who made us to feel we were never good enough to meet their standards. In the healing process, youll need to work on discovering the root source of where these thoughts and feelings come from and then learn to accept yourself just as you are unconditionally. Id be pleased to help you in this process. I provide online private counseling through proventherapy.com. Dr. Rachelle Vaughan',\n",
       "    'Hello, and let me say first, what a great question!There are so many people putting forth their 100% everyday and often times, do not get the credit they deserve. Without being able to fully understand where youre question is coming from, I think there are a couple of different ways to look at this question.First, I think its important for us to consider the message being sent by those in your life stating that youre \"not good enough.\" Is that ACTUALLY what they said, or is this just what you heard? Sometimes, because of our own self-doubts and fears, we skew and misinterpret the messages we receive from others. Again, listen to the message being sent and attempt to remain objective. Is the message being sent coming from a place of love or concern? If so, have an honest and open communication with that individual about what your concerns are regarding the amount of energy and time youre spending on being \"good enough.\" Explore with them how you feel your already giving your best.If the person is unwilling to work at understanding this concern you have, then it may be time to explore the relationship. Some relationships we engage in can be toxic, especially if the other person is toxic. It may be they have their own \"stuff\" going on and they feel the need to constantly put others down to make themselves feel better. If youre in the direct path of this individual, then it serves to reason you will probably be in the direct fire, as well. Explore whether or not you want this relationship to continue in your life. If its a relationship that MUST continue, then work on what you will do to distance yourself from their toxicity or their problems. Until theyre willing to work on these issues for themselves, then it may be necessary to find an exit strategy, such as leaving the room or simply refusing to engage in the conversation.Another perspective of this question is exploring the reason why its important for YOU to satisfy the expectations of these other individuals? NO ONE will ever be 100% \"good enough\" for EVERYONE. Every single person has their own set of expectations in themselves and expectations in others. It would be impossible to satisfy all of those expectations for every single person in our lives.The question becomes, what is it WITHIN you that feels the need to meet these expectations? There is most likely a part of you, yourself, as an individual that feels \"less than\" and feels as if you, yourself, are not good enough. It then becomes impossible to every feel \"good enough\" for others, because its really YOU youre trying to feel good enough for. If you already feel as if youre doing everything you can do to be at your best version of yourself, then really work on LETTING GO of the rest. No one is perfect, and striving for perfection in our lives only creates more anxiety and stress. Find a middle ground in which you are happy with your accomplishments and your daily goals, and learn to let go of whats left. After all, tomorrow is a new day and you can work on more of your goals tomorrow!I recommend doing this by finding a mantra, a statement or phrase you can repeat to yourself anytime you start to feel that sense of stress and pressure from striving for perfection. The mantra can remind you to let go of this expectation you have for yourself or that others have for you so you can also let go of the stress and anxiety surrounding the expectation.I leave you with one of my favorite quotes that perhaps you can use as your mantra, \"No one can make you feel inferior without your consent. \" - Eleanor Roosevelt.']},\n",
       "  {'tag': 'anger-management2',\n",
       "   'patterns': ['i have a shot fuse',\n",
       "    'im always anger',\n",
       "    'I snap easy and push people away. I need help before I push my boyfriend away.'],\n",
       "   'responses': ['Meditation may be able to assist you in dealing and looking at your anger differently. Anger is not usually just anger. Behind our anger may lie rejection, grief, loneliness, a longing to reconnect, etc. When we ignore or repress our anger, we are always ignoring these other emotions as well.Meditation is the midpoint between expressing and repressing anger. It allows us a space to stay present with it as it arises and recognize the many faces of anger. By doing this, we are able to become aware of our feelings to learn more about them and not be swept away by them.Learn more here: https://www.therapybyshannon.com/blog-2/2019/4/26/meditate-to-manage-anger',\n",
       "    'Must you keep this roommate in your life?If youve tried speaking with the person about your unhappiness to feel angry \"all the time\" , the problem has been going on for an extended amount of time and nothing changes, then the next step would be for both of you to part ways.It is possible each of you triggers the other in very deep and irrational ways on occasion.If the choice is to tolerate being triggered or to dissolve the relationship, then your decision is which of these two choices is better for you.Since you already know you dont like to be triggered, parting ways as soon as reasonably possible, seems the choice you prefer.Either choice is fine. Let the decision depend on which way makes you feel life is livable and happy!']},\n",
       "  {'tag': 'anger-management4',\n",
       "   'patterns': ['my roomate is makiing me anger',\n",
       "    'My roommate is a unapologetic person who doesnt care who she hurts. She never apologizes to me or my family. She made me lose my temper today to the point where I was using swear words in front of my mom and brother.'],\n",
       "   'responses': ['You must be feeling frustrated about how to resolve this. Some people seem to really provoke emotional responses in us. One thing to learn for a quick review of yourself when you are provoked is to pay attention to your body.Notice your heart rate, fists clenched, some warmth going through your body and these are signs that the interaction is toxic for you. Move out of the room, say something calling to both of you and let things simmer down before responding.When you are able to calm your body, think of ways to bring the issue to her attention using positive words but holding your ground. If she doesnt listen ask someone to come with you to talk to her about it, If she still wont listen, reassess your expectations of her.Finally if you need to , you may have to consider changing the status of your rooming together.',\n",
       "    'Must you keep this roommate in your life?If youve tried speaking with the person about your unhappiness to feel angry \"all the time\" , the problem has been going on for an extended amount of time and nothing changes, then the next step would be for both of you to part ways.It is possible each of you triggers the other in very deep and irrational ways on occasion.If the choice is to tolerate being triggered or to dissolve the relationship, then your decision is which of these two choices is better for you.Since you already know you dont like to be triggered, parting ways as soon as reasonably possible, seems the choice you prefer.Either choice is fine. Let the decision depend on which way makes you feel life is livable and happy!']},\n",
       "  {'tag': 'grief-and-loss1',\n",
       "   'patterns': ['how to deal with grief',\n",
       "    'I just lost my grandpa and im having a rough time with it.    I need some help to deal with the loss, but I dont think I can pay for counseling. Where Can I get help?'],\n",
       "   'responses': ['If you connect with your therapist and can say whatever you want to say and not be judged. If you feel like things, situations, your outlook are shifting for you.',\n",
       "    'Yknow, to see a man youve loved and care for pass on must make ya want to cry and weep a bunch, dont it?And, may I say to you that... (as Ive long since said)... if you need to mourn, take about a week or so and mourn like your life depended on it. I mean, get to weeping, gnashing, moaning, crying, solemnness, and reflection.And then, after about a week or so, reflect on the man as if he were a well-beloved traveler... sent off on a wondrous journey that will consume and encapsulate his entire awareness... and...Rather than expression vibrations of fatigue, sadness, and anger, send him the finest recollections and images you have of him, and regard him fondly...For, I think you will realize that the dead are not gone forever, but are actually extraordinarily active... and when he sees what you express out from within yourself, he experiences it himself (probably more than you know); so, why not send the very best you have out to him :)',\n",
       "    'I am sorry for your loss. I understand the difficulty of needing help and not having financial resources. In some areas, you can dial 211 and find resources in the area that may be free of cost or low cost. In addition, often hospitals and community centers, churches, etc. have support groups. These are often free and many include grief and loss issues. Finally, there are some therapists who work on sliding scales and even sometimes offer pro bono sessions for clients. Hopefully some of these leads work out for you so that you can get the support that you need.',\n",
       "    'Your local hospice will have grief support groups and free community counseling available with bereavement counselors who are expects with grief and loss.']},\n",
       "  {'tag': 'marriage1',\n",
       "   'patterns': ['All we do is argue. We never agree on anything.'],\n",
       "   'responses': ['For how long has the arguing been occurring and does it relate to a specific incident or circumstance in your relationship?Arguing due to temporary stress and feeling lost or uncertain, is different than the two of you rarely agree on what foods to buy at the grocery store.In both temporary or longer term arguing, ask yourself if the points being argued are core principles of yours or matters which you can accept in service to the benefits you feel from the marriage.If your core principles are rejected, youve been arguing for an extended amount of time, and the value of the marriage doesnt outweigh this, then seriously consider if ending the relationship is a better option than to stay in it.']},\n",
       "  {'tag': 'marriage2',\n",
       "   'patterns': ['What makes a healthy marriage last?',\n",
       "    'tips for healthy marriage'],\n",
       "   'responses': ['This is a fantastic question. In one sentence, I would say the following:Recognize that while you and your partner probably have common interests and areas of commonality, you are separate people, each with different wants, wishes, and desires – if you consider a diagram of two overlapping circles, they may share perhaps a third of the circle with overlap to indicate commonality (could be more or less) and then there are parts of the circles that are not overlapping, indicating separate interestsAs for ways that may strengthen any relationship, even the great ones, this is what came to mind. There are certainly more specific unique answers or elements for different people as far as the details, but here are some general ideas:Try to have at least 15 minutes a week where you are spending time together and not problem-solvingRealize that listening to your partner does not mean that you are agreeing with them, it just means that you are saying that you hear where they are coming fromLearn to hold on to your own wants, wishes, and desires while also recognizing those of your partnerSet boundaries for what is and isnt acceptable behavior during an argument or difficult discussionDiscuss how having important discussions can be anxiety-producing and consider having an understanding that if one of you (or both of you) feels overwhelmed, you can take a timeout for a certain amount of time. For example, you may say \"okay, Im feeling really stressed about this right now. Lets discuss it in an hour.\" And at that time, go back to the discussionConsider what your partners top three or four complaints about you may be. Check in with them and see how accurate you are. If you see validity in their responses, consider whether or not you may want to make changesDiscover what makes your partner feel loved, valued, appreciated, or specialRelationships are always in progress and constantly changing. Some anxiety around change is typical. Being able to effectively discuss the anxiety and actually listen to one another without being defensive, name calling, finger-pointing, or asking each other to change is a true gift.You may enjoy this quote:\"Connection is the energy that is created between people when they feel seen, heard, and valued; when they can give and receive without judgment.\" ~Brene Brown',\n",
       "    'Its surprising how many folks talk too much on the subject;Its the same three things that make all relationships work:HonestyTrustRespect(in that order)Most folks fall down on the first :) (*coughcough* THERAPISTS! Heh heh heh...)',\n",
       "    'A resource I think is helpful to learn more about \"what makes a good marriage\" and steps toward doing so is Dr. John Gottmans book: \"Seven Principles for Making Marriage Work.\"Dr. Gottman is a leader in this field and has done extensive studies with couples to determine what behaviors are key in making a marriage work and what behaviors could predict divorce. I think this book might be a good start if youre wanting to learn more about how to have a long lasting relationship.',\n",
       "    'What a great question! Marriage (or any long-term committed romantic relationship) is never easy. Ups & downs, doubts and fights are a part of it justthe same as the wonderful, tender, blissful moments of connection. Recognizing that hardships are normal and something to work through is a big part of the healthy attitude partners in lasting relationships share.Some degree of conflict is not something to be scared of or a sign its time to break upas long as all parties involved feel respected.Expressing your needs and wants in a respectful, not accusing manner will increase the chances that your loved one will actually listen, empathize with your perspective and will bemore opento finding solutions to your problems together. Working as a team to find solutions to problems you encounter is a much better approach than trying to persuade your partner that you are right, while they are most certainlywrong. Shutting your partner out orallowing resentment and contempt to creep into your relationships is definitely a warning sign that things maynot be going the way you want anymore.As long as you both agree that you want to be in that relationship (i.e., are committed to it) and you have a growth mindset (\"we will learn from this and grow together to be a better couple in the end\"), the foundation of your partnership is strong. What else?Making timefor each other, whether its being playful, having fun or enjoyingintimate momentstogether is also an important part ofensuring a good balance of positive to negative experiences, that will only strenghten your bond. Good luck!']},\n",
       "  {'tag': 'relationships1',\n",
       "   'patterns': ['Theres this boy who asked me out awhile ago. I said no because my friends and family would think weirdly of me. How do I be with him and tell him and tell my friends?'],\n",
       "   'responses': ['Since youve decided to be with the boy who already showed you his interest, then why not simply tell him you decided to accept his invitation to be together?Probably your first concern about hesitating to accept this boy into your life due to the way you imagine your family may react if you do, is the more complex matter to solve.Forming a relationship does bring up our values and the way these are different or similar to our own.  At the same time, we already have values which are rooted in those from the family in which we grew up.Your dilemma of wanting to be with this boy shows there is a clash between your values as an individual, including your choice of partner, and the way your family understands the values which support being part of a couple.Stay true to what you feel, whether this comes from your family or the way you currently are evolving.This will guarantee that your new relationship will be built on the values and person you truly are.']},\n",
       "  {'tag': 'relationships2',\n",
       "   'patterns': ['I have suffered many things at home and school. We never went to the doctor to diagnose depression or anything like that, but I always feel like a part of my heart is missing. I try to fill it in with objects or, in this case, a woman.'],\n",
       "   'responses': ['Maybe the reason is not having confidence in the love you give to yourself.Possibly you consider the quality of your self-love as inferior to love someone else gives you.The best way to push through to your own self-comfort and acceptance is to be aware of this tendency so you can remind yourself to practice appreciating the unique love you give to yourself.']},\n",
       "  {'tag': 'relationships3',\n",
       "   'patterns': ['I have suffered many things at home and school. We never went to the doctor to diagnose depression or anything like that, but I always feel like a part of my heart is missing. I try to fill it in with objects or, in this case, a woman.'],\n",
       "   'responses': ['There could be many reasons but often people feel validated when they are in a relationship, the need to be in a relationship can be related to a belief of unlovability which often stems from our childhood. The relationship sort of soothes this temporarily and the others interest or desire helps counteract the ingrained belief. There are many questions that may help understand why, how was your relationship with your mother (caregivers)? How was your childhood etc.?Many people describe having a hole or void they try and fill with material things or people but it only is a temporary fix which usually drives the person to the next relationship, or object in hopes it will be fulfilling but it never is because fulfillment is work we need to do ourselves. This journey involves finding acceptance and love for ourselves. Once we have that we dont need to look elsewhere for fulfillment.',\n",
       "    'It is not the case of being right or wrong, in my view. If you are asking, I believe you trulycare for your boyfriend. It seems like he is having difficulties in establishing trust in this relationship. The ideal would be to come closer to his upsetness and to show him that you are there for him. I hope all goes well. Rossana Mag.',\n",
       "    'There are a lot of ways to look at this. It sounds as if there is a part of you that is looking for support. I wonder what it is that you feel when youre not in a relationship?Because of the way you asked the question, Im getting the impression that you are referring to romantic relationships. I wonder if you have close friendships that could form a network to help with this when you are not romantically involved with someone. Even when you are in a relationship with a romantic partner, having friends is still an important element.I wonder if you could also notice what changes for you inside of yourself (as far as emotions) when you move from not being in a relationship to being in one.Perhaps you could take a look at what you value about yourself.In general, it is natural for people to want to be in relationships with others (in this case, relationship has many meanings and degrees). Most of us enjoy sharing elements of our days, thoughts, feelings, etc. with someone else who we trust and care about – also hoping they care about us in return.']},\n",
       "  {'tag': 'addiction1',\n",
       "   'patterns': ['For some reason, I look at my phone, and in no time, five hours has passed. During those five hours, Im playing games and trying to find out how to make my phone fun to use so I dont feel like I wasted my time trying to improve my phones performance in my life.'],\n",
       "   'responses': ['Start by spending small amounts of time with your own thoughts and feelings.Always being focused on what a phone offers keeps people at a distance from knowing themselves.As long as you make time to spend in an activity which is not interactive the way a phone is, and instead depends only upon your actions, you will be investing time and energy into your own life.Whether by consciously considering your own interests, or doing housecleaning or chores, by devoting yourself to areas which you decide to be involved in, you will increase your knowledge of your own interests.Then, to not be so involved with your phone will be natural and easy.']},\n",
       "  {'tag': 'addiction2',\n",
       "   'patterns': ['This is my recovery, and I dont feel that it is okay for them to ask this. They told me it is policy due to the fact that I may run into a peer there. I am a peer counselor in the small community that I grew up in. I am in recovery myself. I was asked to come work for this organization after I was two years sober (I was in treatment in this organization). I work with mental health peers and run life skill groups. I dont work with substance peers.'],\n",
       "   'responses': ['You definitely want to make sure not to inadvertently create an inappropriate dual relationship with a client.In fact, it is not uncommon for state regulatory boards to determine that a clinician and client being in the same 12 step group is professional misconduct.You might want to consider attending a 12 step meeting that is located in a different community than the one you work in. Another option would be to look for one-on-one or small group recovery support.',\n",
       "    'Hello, and thank you for your question. I know that workplaces have some latitude when it comes to requiring certain behaviors from their employees. For example, they may require you to tell them if you get into some kind of legal trouble. But this situation seems completely different. For one thing, 12 step meetings are supposed to be anonymous. I am not sure how they would know that you attended unless you or someone else told them. I agree that it seems like to cross a line. Usually each state has an office that manages complaints related to employment, such as the Department of Labor or EEOC. You may want to see which entity is in your state and contact them. It would be worth asking them to see if this is a legal practice. If it is but you still want/need to stay at this job, then you may want to look for alternate sources of support for your sobriety. There are active online support groups that would allow you to do things from the privacy of your home. SMART Recovery http://www.smartrecovery.org/ is a website that many people like. There are also online groups that specifically discuss the 12 steps. No matter what, I give you a lot of credit for doing your best to keep your sobriety and continuing to see the value in having support. Robin J. Landwehr, DBH, LPCC, NCC']},\n",
       "  {'tag': 'addiction4',\n",
       "   'patterns': ['I have a relative who is in his twenties. He was in a drug rehabilitation program and got kicked out for using drugs again. No one informed family that he was using drugs again. He subsequently overdosed and was found dead.  Is their accountability of counselors, therapists or the halfway house for not reporting that he had relapsed? Is there a legal case for failing to report?'],\n",
       "   'responses': ['Im so sorry to hear of your loss. This sounds like a really difficult situation for the whole family. Since the answer to this question will depend a lot on the applicable state laws, I would suggest talking with a local attorney. That being said, I see two competing issues here. On the one side is the duty of confidentiality the counselors owedto your relative. On the other side is the duty the counselors had to act reasonably to protect your relative from harm. Generally there is not a requiremt for substance abuse treatment centers to notify family members if an adult client relapses.A local attorney will be able to provide more specific guidance on the legal obligtions and liabilities in this situation.',\n",
       "    'I am so sorry for your loss. Generally therapists only have a duty to report self harm to ones self or others if it is expressed to them. Often times they will not report relapses due to the fact that proper releases were not signed or patient has specifically asked them not to for fear of shaming or failure again. I understand this may not be the answer you were hoping for. I would encourage the family to seek therapy themselves for help coping with such a loss.']},\n",
       "  {'tag': 'stress1',\n",
       "   'patterns': ['im so stressed',\n",
       "    'I need help dealing with stress. How can I handle it all and feel less stressed out?'],\n",
       "   'responses': ['In case you feel some relief to know youre feeling the tone of our times.We live with crumbling of our values which then gives rise to insecurity everywhere. If someone doesnt know what their values are then its difficult to do anything, and right now everyday we hear uncertainty in what used to be our basic assumptions.Youre more normal for noticing and feeling stressed than if you imagine life felt fine the way it is!One road to take is to accept that there are no clear roads forward. This means to change long term goals into shorter ones.Also, in general the more focused you can be as to your particular wishes, motivations, interests, and people about whom you care, the greater will be your sense of confidence that your personal world is as secure as it can be for right now.And, it helps too to know that nothing lasts forever, eventually all of what is up in the air will start to land in a much more clear way.',\n",
       "    'Part of handling stress is making sure that your perception of the stress is accurate. Sometimes stress can seem more than it really is. One thing that I encourage my clients to do is to ask themselves, \"What is this stressor really about?\" Simplifying stress is a key to minimizing stress and leads to feeling less stressed out.',\n",
       "    'There are many causes for feeling stressed out. Between a demanding job, family responsibilities, and everything else that can come up, stress becomes more and more part of our everyday life. One of the best ways to combat the toxic effects of stress on our bodies, social lives, and overall well being is to engage in self-care. But not the self-care that most people think of like vacations or massages. The best self-care is the kind that helps you live the life that you already have rather than escape it. You see, the reason why vacations and massages dont work long term in reducing stress is that they allow you to escape from what is causing the stress without truly fixing it so you just return to what already stressed you out. So, instead you need to find ways to help live with the stressors that you already have. They can be things like creating a more manageable schedule, introducing healthy eating or exercising, financial planning, and even learning a few simple relaxation skills. The key to combatting stress is to make small but consistent changes to your life so that it becomes more manageable and more enjoyable.']},\n",
       "  {'tag': 'stress4',\n",
       "   'patterns': ['how to deal with stress',\n",
       "    'I need help knowing how to deal with stress. What can I do?'],\n",
       "   'responses': ['Something different works for each of us.There are the outward answers of self-pampering and making your home and work environment as pleasant as possible.A deeper level way to decrease stress is through exercise or alternative practices like yoga or tai chi.If the stress is more deeply rooted than temporarily feeling irritated for a few days, then give yourself some time to reflect and clarify what the meaning of the stress is to you.Self-understanding and appreciating your efforts to know yourself may decrease stress because youll be more focused and attentive to who you are. This will influence you overall to make good decisions for yourself and these will naturally be ones which decrease stress as much as possible.',\n",
       "    'Our body reacts to stress typically by breathing more shallowly, increasing our heart rate and tensing our muscles - so one thing that I find really effective is to try to do the opposite of that, which sends the signal to our mind that we are relaxed. So that means, taking slower, fuller breaths and trying to relax any areas where we might be gripping our muscles. Check out meditation apps such as Breathe, which can talk you through a relaxing breath exercise. I recommend using the app daily, whether you feel stressed or not, and then also using it when you re feeling particular moments of stress - that way you are practicing the skill when you feel calm(wish) and itll be ready and able to help you when stress hits hard.']},\n",
       "  {'tag': 'social-relationships1',\n",
       "   'patterns': ['These jokes are made about everything. They seem to have the need to say something \"funny\" about everything. Its not funny, just awkward.'],\n",
       "   'responses': ['I agree, it is awkward when people make jokes about subjects which may not be funny at all. And, if a person only jokes, then after laughing and realizing the person has nothing of themselves to offer, this can also be quite tedious.Realize that you are more aware of human interaction having many levels of expression. You could start avoiding people who irritate you by the way they behave.']},\n",
       "  {'tag': 'social-relationships2',\n",
       "   'patterns': ['My best friend and I were pranking her friend, and I told her to tell him that she likes him. She said no, but I forced her. After she told him, he told her that he likes her too. Their friendship is ruined because of me. She wont forgive me, and I feel really guilty. I feel like crying.'],\n",
       "   'responses': ['In order for your friend to forgive you shed need to trust you understand the damage you introduced into her relationship with her friend.Its possible if you offer your friend expressions of your empathy toward her over an extended time, possibly shell forgive you.Youre certainly learning relationship lessons on how to treat people and the effect of betraying another person, which will last forever.Maybe this was meant to be the outcome.',\n",
       "    'This takes time. I dont know how long it has been, but perhaps if your friend is willing to discuss other things with you for a little while, you could discuss this at some point in the future.Hopefully the true intentions will become apparent (in the idea that it was a prank).Also, I encourage you to look at how this is affecting you and how you feel about yourself as well. If it was meant to be a joke and it did not work, that is not entirely your fault.I wonder how you could forgive yourself for what happened?Are you able to seek what you meant to do compared to what actually happened?Do you notice that not everything that has happened here is in your control?Do you recognize that even though you would like things to be better, if your friend is not ready or willing, you are trying to do your part to make it right?Maybe everyone who is/was involved in this can talk together all at the same time to set straight what is truth and what was misunderstood.I wonder if you can think of your own positive attributes (for example: honesty, compassion, trustworthiness, friendship, good listener, caring) and look at what truly exists within you rather than just one your friend is able to see right now.This can be really difficult for multiple reasons, not the least of which is that it involves more than just you, so its important to focus on the idea that you can ask these other people who were involved to discuss it, but that is ultimately up to them.Best wishes for looking at the positive parts of yourself and your friendships.']},\n",
       "  {'tag': 'social-relationships6',\n",
       "   'patterns': ['Every time I send a message to someone or a group message on Instagram, iMessage, or snapchat people will read my messages but then they wont answer me.    Could it be that there is something they dont like about me? I dont understand why they wont answer my messages. How do I get people to respond to me?'],\n",
       "   'responses': ['I understand the feeling of not being liked due to not having any responses on the sites you list.More than likely the non-response has less to do with liking you than w liking the way you write your messages.Have you tried asking a question in your posts? This would be one way to invite people to answer your post.When you write, imagine yourself as the reader of the post.If you think about the wording of a question which would motivate you to respond, then this formula will very likely be the same for many others who read your post.Good luck!',\n",
       "    'Sorry to hear your friends arent responding to you. If these friends are in-person as well as online, perhaps going to them in person and asking talking to them about your concern. Perhaps its the way you send messages or the way they are receiving them. if they say no, then a simple request to respond to your messages. Measure the result and notice if there are even small differences.Also understand, why this is so important to you. Ask yourself, why its so important for you to receive these messages from friends. What does it mean when they dont respond.']},\n",
       "  {'tag': 'self-harm1',\n",
       "   'patterns': ['I self-harm, and I stop for awhile. Then when I see something sad or depressing, I automatically want to self-harm.'],\n",
       "   'responses': ['In a way, self-harm can present somewhat like an addiction. According to new research within the field of neuroscience there is a valid explanation for this. When a person cuts or uses other forms of self harm, the body produces endorphins to help make a person feel better. If a person was dealing with depression or high anxiety, that might be misinterpreted by the brain as a way to help oneself feel better and a new neural network or map might form (addiction) that would utilize this new behavior. Another way to look at it would be thru a behavioral lens, a positive reward for a behavior, even though the behavior has other long term negative consequences. Consider working with someone who can both have you work on and address those items that trigger your behavior and the root causes, in this case sadness or depression, and second find someone who can help give you alternatives that take into account the neurological requirement by replacing the behavior with another behavior (such as snapping a rubber band on the wrist) and working to extinguish the unwanted behavior.  Someone who is trained in Dialectic Behavior Therapy and/or Interpersonal Neurobiology would most likely have the skills and means available to address this with you.',\n",
       "    'Self-harm has a way of becoming a go-to method of coping. When we get stuck using self-harm as a way to deal and manage emotions, when something serious happens it totally makes sense that that will be one the first things to go through the mind. It is its own kind of addiction. There is a therapy, DBT or, Dialectical Behavior Therapy, which focusing on giving you new tools to get through hard times, understand and manage your emotions, to stay present and to deal with relationships. This one of the most effective interventions there is for self-harm. If you are interested in DBT, reach a local therapist in your area and ask if they do DBT or can recommend you to a DBT program. This can help immensely. Self-harm recovery is totally possible, but it is definitely hard work!']},\n",
       "  {'tag': 'self-harm3',\n",
       "   'patterns': ['After he got home from the hospital he was angry, then for a time wonderful. Now he is depressed and hopeless again.'],\n",
       "   'responses': ['Hello, and thank you for your question. This is a very serious time. I dont mean to frighten you, but you are right to be concerned. The time right after people leave the hospital after receiving psychiatric services is a time of high risk for suicide. It is very important, after hospitalization,to getfollow-up care with a professional as soon as possible. If your husband has an established therapist, this is the time to call. It is also a good time to alert your support system of friends, family, clergy or others to let them know he is still struggling. This is good support for him AND you.It is important to think about means and opportunity to make another attempt. Means really do matter. So, if you have a firearm in the home, it is really important to remove it. You cant remove all things that a person may hurt themselves with, but some things are more lethal than others. Firearms are very lethal. I am not sure what means he used last time, but try to reduce the opportunity for him to access it again. This is where your support system can help out. People can take turns hanging out with him until you are sure the crisis is over.If you believe that an attempt is going to occur, talk to your husband about going back to the hospital. If he refuses, you will want to find out what your options are to have him go even if he doesnt want to. I know the thought of that really hurts, but it can save his life. Calling 9-1-1 is alwaysagood option if you are not sure. Usually a suicide crisis, meaning they want to harm themselves right now, lasts a few minutes, hours or days. Sometimes when you get them through the crisis stage, they no longer want to commit suicide. But, as you are indicating, that feeling of wanting to commit suicide can come back again. So, it is always good to have a plan. If you want more information, call the National Suicide Prevention Lifeline. They will always answer: 1-800-273-8255. They can help you create a specific safety plan. I do hope things work out alright. Be well. Robin J. Landwehr, DBH, LPCC, NCC',\n",
       "    'Im thankful to read your husband found care and that his suicide attempt wasnt successful. While he was hospitalized, and prior to his release, your husband wouldve been provided in writing a self-care action plan. This typically includes things like committing to a contract not to harm and what to do if he felt overwhelmed by his anger, depression, and hopelessness (e.g. call 911, call therapist, go to nearest hospital emergency department). Additionally, his protocol wouldve provided instructions for his taking medication(s) as directed, having a follow-up appointment(s) with his psychiatrist/psychologist/clinical social worker, and participating in some form of small group support. If your husbands struggling as you describe, and you are feeling overwhelmed or frightened for his (your) safety, Id encourage you to seek immediate assistance.',\n",
       "    'This is actually more common then we often realize, and actually understandable, as he has gone through a trauma, an unresolved existential crisis. He was taken care of by others and now is again left alone with his own internal, and rather horrific inner struggle.In my work with CCT, or Contextual Conceptual Therapy, (see www.suicidetherapy.com) I have learned how trapped suicidalpeople are in their own isolation, also called a \"mysterious isolation,\" a form of self protection which cuts the off from their Self, or spirit. And unless they address this message from their soul, accompany a guide on a journey to discover their own missing information, that is to recognize how their own uncomforted emotionalpain has resulted in a coping stategy which has effectively cut themselves off from their own beauty, their Self, and their ability to receive love from themselves and others.Their attempt to kill themselves is a cry from their soul or spirit that they cannot live the life they are living any longer. They take this literally and try to end their life, when in fact what their soul or spirit is saying is they need to begin to live the life they came here to live.',\n",
       "    'Self-harm has a way of becoming a go-to method of coping. When we get stuck using self-harm as a way to deal and manage emotions, when something serious happens it totally makes sense that that will be one the first things to go through the mind. It is its own kind of addiction. There is a therapy, DBT or, Dialectical Behavior Therapy, which focusing on giving you new tools to get through hard times, understand and manage your emotions, to stay present and to deal with relationships. This one of the most effective interventions there is for self-harm. If you are interested in DBT, reach a local therapist in your area and ask if they do DBT or can recommend you to a DBT program. This can help immensely. Self-harm recovery is totally possible, but it is definitely hard work!']}]}"
      ]
     },
     "execution_count": 17,
     "metadata": {},
     "output_type": "execute_result"
    }
   ],
   "source": [
    "data"
   ]
  },
  {
   "cell_type": "markdown",
   "metadata": {},
   "source": [
    "The variable “training_sentences” holds all the training data (which are the sample messages in each intent category) and the “training_labels” variable holds all the target labels correspond to each training data."
   ]
  },
  {
   "cell_type": "code",
   "execution_count": 18,
   "metadata": {},
   "outputs": [],
   "source": [
    "training_sentences = []\n",
    "training_labels = []\n",
    "labels = []\n",
    "responses = []\n",
    "\n",
    "for intent in data['chat_corpus']:\n",
    "    for pattern in intent['patterns']:\n",
    "        training_sentences.append(pattern)\n",
    "        training_labels.append(intent['tag'])\n",
    "    responses.append(intent['responses'])\n",
    "    \n",
    "    if intent['tag'] not in labels:\n",
    "        labels.append(intent['tag'])\n",
    "        \n",
    "num_classes = len(labels)"
   ]
  },
  {
   "cell_type": "markdown",
   "metadata": {},
   "source": [
    "<a id='3.2'></a>\n",
    "### 3.2. Label encoding"
   ]
  },
  {
   "cell_type": "markdown",
   "metadata": {},
   "source": [
    "Then we use “LabelEncoder()” function provided by scikit-learn to convert the target labels into a model understandable form."
   ]
  },
  {
   "cell_type": "code",
   "execution_count": 19,
   "metadata": {},
   "outputs": [],
   "source": [
    "lbl_encoder = LabelEncoder()\n",
    "lbl_encoder.fit(training_labels)\n",
    "training_labels = lbl_encoder.transform(training_labels)"
   ]
  },
  {
   "cell_type": "markdown",
   "metadata": {},
   "source": [
    "<a id='3.3'></a>\n",
    "### 3.3. Vectorizing the data"
   ]
  },
  {
   "cell_type": "markdown",
   "metadata": {},
   "source": [
    "Next, we vectorize our text data corpus by using the “Tokenizer” class and it allows us to limit our vocabulary size up to some defined number. When we use this class for the text pre-processing task, by default all punctuations will be removed, turning the texts into space-separated sequences of words, and these sequences are then split into lists of tokens. They will then be indexed or vectorized. We can also add “oov_token” which is a value for “out of token” to deal with out of vocabulary words(tokens) at inference time."
   ]
  },
  {
   "cell_type": "code",
   "execution_count": 20,
   "metadata": {},
   "outputs": [],
   "source": [
    "vocab_size = 1000\n",
    "embedding_dim = 16\n",
    "max_len = 20\n",
    "oov_token = \"<OOV>\"\n",
    "\n",
    "tokenizer = Tokenizer(num_words=vocab_size, oov_token=oov_token)\n",
    "tokenizer.fit_on_texts(training_sentences)\n",
    "word_index = tokenizer.word_index\n",
    "sequences = tokenizer.texts_to_sequences(training_sentences)\n"
   ]
  },
  {
   "cell_type": "markdown",
   "metadata": {},
   "source": [
    "The “pad_sequences” method is used to make all the training text sequences into the same size."
   ]
  },
  {
   "cell_type": "code",
   "execution_count": 21,
   "metadata": {},
   "outputs": [],
   "source": [
    "padded_sequences = pad_sequences(sequences, truncating='post', maxlen=max_len)"
   ]
  },
  {
   "cell_type": "markdown",
   "metadata": {},
   "source": [
    "<a id='4'></a>\n",
    "## 4. Buliding the Model"
   ]
  },
  {
   "cell_type": "markdown",
   "metadata": {},
   "source": [
    "Let’s define our Neural Network architecture for the proposed model and for that we use the “Sequential” model class of Keras."
   ]
  },
  {
   "cell_type": "code",
   "execution_count": 22,
   "metadata": {},
   "outputs": [
    {
     "name": "stdout",
     "output_type": "stream",
     "text": [
      "Model: \"sequential\"\n",
      "_________________________________________________________________\n",
      " Layer (type)                Output Shape              Param #   \n",
      "=================================================================\n",
      " embedding (Embedding)       (None, 20, 16)            16000     \n",
      "                                                                 \n",
      " global_average_pooling1d (G  (None, 16)               0         \n",
      " lobalAveragePooling1D)                                          \n",
      "                                                                 \n",
      " dense (Dense)               (None, 64)                1088      \n",
      "                                                                 \n",
      " dense_1 (Dense)             (None, 16)                1040      \n",
      "                                                                 \n",
      " dense_2 (Dense)             (None, 25)                425       \n",
      "                                                                 \n",
      "=================================================================\n",
      "Total params: 18,553\n",
      "Trainable params: 18,553\n",
      "Non-trainable params: 0\n",
      "_________________________________________________________________\n"
     ]
    }
   ],
   "source": [
    "model = Sequential()\n",
    "model.add(Embedding(vocab_size, embedding_dim, input_length=max_len))\n",
    "model.add(GlobalAveragePooling1D())\n",
    "model.add(Dense(64, activation='relu'))\n",
    "model.add(Dense(16, activation='relu'))\n",
    "model.add(Dense(num_classes, activation='softmax'))\n",
    "\n",
    "model.compile(loss='sparse_categorical_crossentropy', \n",
    "              optimizer='adam', metrics=['accuracy'])\n",
    "\n",
    "model.summary()"
   ]
  },
  {
   "cell_type": "markdown",
   "metadata": {},
   "source": [
    "<a id='4.1'></a>\n",
    "### 4.1. Fitting the model"
   ]
  },
  {
   "cell_type": "code",
   "execution_count": 23,
   "metadata": {},
   "outputs": [
    {
     "name": "stdout",
     "output_type": "stream",
     "text": [
      "Epoch 1/200\n",
      "2/2 [==============================] - 1s 23ms/step - loss: 3.2187 - accuracy: 0.0566\n",
      "Epoch 2/200\n",
      "2/2 [==============================] - 0s 0s/step - loss: 3.2158 - accuracy: 0.0943\n",
      "Epoch 3/200\n",
      "2/2 [==============================] - 0s 2ms/step - loss: 3.2134 - accuracy: 0.0943\n",
      "Epoch 4/200\n",
      "2/2 [==============================] - 0s 6ms/step - loss: 3.2115 - accuracy: 0.1132\n",
      "Epoch 5/200\n",
      "2/2 [==============================] - 0s 0s/step - loss: 3.2092 - accuracy: 0.1132\n",
      "Epoch 6/200\n",
      "2/2 [==============================] - 0s 9ms/step - loss: 3.2073 - accuracy: 0.1132\n",
      "Epoch 7/200\n",
      "2/2 [==============================] - 0s 15ms/step - loss: 3.2048 - accuracy: 0.1132\n",
      "Epoch 8/200\n",
      "2/2 [==============================] - 0s 0s/step - loss: 3.2024 - accuracy: 0.1132\n",
      "Epoch 9/200\n",
      "2/2 [==============================] - 0s 0s/step - loss: 3.2001 - accuracy: 0.1698\n",
      "Epoch 10/200\n",
      "2/2 [==============================] - 0s 1ms/step - loss: 3.1974 - accuracy: 0.1698\n",
      "Epoch 11/200\n",
      "2/2 [==============================] - 0s 16ms/step - loss: 3.1946 - accuracy: 0.1698\n",
      "Epoch 12/200\n",
      "2/2 [==============================] - 0s 0s/step - loss: 3.1914 - accuracy: 0.1698\n",
      "Epoch 13/200\n",
      "2/2 [==============================] - 0s 0s/step - loss: 3.1885 - accuracy: 0.1698\n",
      "Epoch 14/200\n",
      "2/2 [==============================] - 0s 9ms/step - loss: 3.1852 - accuracy: 0.1698\n",
      "Epoch 15/200\n",
      "2/2 [==============================] - 0s 16ms/step - loss: 3.1812 - accuracy: 0.1698\n",
      "Epoch 16/200\n",
      "2/2 [==============================] - 0s 0s/step - loss: 3.1774 - accuracy: 0.1509\n",
      "Epoch 17/200\n",
      "2/2 [==============================] - 0s 0s/step - loss: 3.1732 - accuracy: 0.1509\n",
      "Epoch 18/200\n",
      "2/2 [==============================] - 0s 644us/step - loss: 3.1687 - accuracy: 0.1509\n",
      "Epoch 19/200\n",
      "2/2 [==============================] - 0s 17ms/step - loss: 3.1640 - accuracy: 0.1509\n",
      "Epoch 20/200\n",
      "2/2 [==============================] - 0s 17ms/step - loss: 3.1590 - accuracy: 0.1509\n",
      "Epoch 21/200\n",
      "2/2 [==============================] - 0s 9ms/step - loss: 3.1536 - accuracy: 0.1321\n",
      "Epoch 22/200\n",
      "2/2 [==============================] - 0s 0s/step - loss: 3.1471 - accuracy: 0.1321\n",
      "Epoch 23/200\n",
      "2/2 [==============================] - 0s 0s/step - loss: 3.1408 - accuracy: 0.1321\n",
      "Epoch 24/200\n",
      "2/2 [==============================] - 0s 0s/step - loss: 3.1343 - accuracy: 0.1321\n",
      "Epoch 25/200\n",
      "2/2 [==============================] - 0s 0s/step - loss: 3.1263 - accuracy: 0.1321\n",
      "Epoch 26/200\n",
      "2/2 [==============================] - 0s 16ms/step - loss: 3.1188 - accuracy: 0.1321\n",
      "Epoch 27/200\n",
      "2/2 [==============================] - 0s 17ms/step - loss: 3.1105 - accuracy: 0.1321\n",
      "Epoch 28/200\n",
      "2/2 [==============================] - 0s 9ms/step - loss: 3.1016 - accuracy: 0.1321\n",
      "Epoch 29/200\n",
      "2/2 [==============================] - 0s 6ms/step - loss: 3.0914 - accuracy: 0.1321\n",
      "Epoch 30/200\n",
      "2/2 [==============================] - 0s 0s/step - loss: 3.0812 - accuracy: 0.1321\n",
      "Epoch 31/200\n",
      "2/2 [==============================] - 0s 2ms/step - loss: 3.0700 - accuracy: 0.1321\n",
      "Epoch 32/200\n",
      "2/2 [==============================] - 0s 17ms/step - loss: 3.0582 - accuracy: 0.1321\n",
      "Epoch 33/200\n",
      "2/2 [==============================] - 0s 0s/step - loss: 3.0454 - accuracy: 0.1321\n",
      "Epoch 34/200\n",
      "2/2 [==============================] - 0s 0s/step - loss: 3.0325 - accuracy: 0.1321\n",
      "Epoch 35/200\n",
      "2/2 [==============================] - 0s 0s/step - loss: 3.0176 - accuracy: 0.1321\n",
      "Epoch 36/200\n",
      "2/2 [==============================] - 0s 8ms/step - loss: 3.0035 - accuracy: 0.1321\n",
      "Epoch 37/200\n",
      "2/2 [==============================] - 0s 18ms/step - loss: 2.9882 - accuracy: 0.1321\n",
      "Epoch 38/200\n",
      "2/2 [==============================] - 0s 15ms/step - loss: 2.9710 - accuracy: 0.1321\n",
      "Epoch 39/200\n",
      "2/2 [==============================] - 0s 0s/step - loss: 2.9536 - accuracy: 0.1321\n",
      "Epoch 40/200\n",
      "2/2 [==============================] - 0s 0s/step - loss: 2.9357 - accuracy: 0.1321\n",
      "Epoch 41/200\n",
      "2/2 [==============================] - 0s 0s/step - loss: 2.9181 - accuracy: 0.1321\n",
      "Epoch 42/200\n",
      "2/2 [==============================] - 0s 17ms/step - loss: 2.8986 - accuracy: 0.1321\n",
      "Epoch 43/200\n",
      "2/2 [==============================] - 0s 0s/step - loss: 2.8795 - accuracy: 0.1321\n",
      "Epoch 44/200\n",
      "2/2 [==============================] - 0s 0s/step - loss: 2.8611 - accuracy: 0.1321\n",
      "Epoch 45/200\n",
      "2/2 [==============================] - 0s 0s/step - loss: 2.8417 - accuracy: 0.1321\n",
      "Epoch 46/200\n",
      "2/2 [==============================] - 0s 17ms/step - loss: 2.8233 - accuracy: 0.1321\n",
      "Epoch 47/200\n",
      "2/2 [==============================] - 0s 17ms/step - loss: 2.8063 - accuracy: 0.1321\n",
      "Epoch 48/200\n",
      "2/2 [==============================] - 0s 0s/step - loss: 2.7880 - accuracy: 0.1321\n",
      "Epoch 49/200\n",
      "2/2 [==============================] - 0s 0s/step - loss: 2.7702 - accuracy: 0.1321\n",
      "Epoch 50/200\n",
      "2/2 [==============================] - 0s 0s/step - loss: 2.7525 - accuracy: 0.1321\n",
      "Epoch 51/200\n",
      "2/2 [==============================] - 0s 8ms/step - loss: 2.7359 - accuracy: 0.1321\n",
      "Epoch 52/200\n",
      "2/2 [==============================] - 0s 17ms/step - loss: 2.7200 - accuracy: 0.1321\n",
      "Epoch 53/200\n",
      "2/2 [==============================] - 0s 0s/step - loss: 2.7052 - accuracy: 0.1321\n",
      "Epoch 54/200\n",
      "2/2 [==============================] - 0s 0s/step - loss: 2.6894 - accuracy: 0.1321\n",
      "Epoch 55/200\n",
      "2/2 [==============================] - 0s 0s/step - loss: 2.6748 - accuracy: 0.1509\n",
      "Epoch 56/200\n",
      "2/2 [==============================] - 0s 2ms/step - loss: 2.6611 - accuracy: 0.1509\n",
      "Epoch 57/200\n",
      "2/2 [==============================] - 0s 17ms/step - loss: 2.6474 - accuracy: 0.1509\n",
      "Epoch 58/200\n",
      "2/2 [==============================] - 0s 10ms/step - loss: 2.6327 - accuracy: 0.1509\n",
      "Epoch 59/200\n",
      "2/2 [==============================] - 0s 0s/step - loss: 2.6188 - accuracy: 0.1509\n",
      "Epoch 60/200\n",
      "2/2 [==============================] - 0s 0s/step - loss: 2.6049 - accuracy: 0.1509\n",
      "Epoch 61/200\n",
      "2/2 [==============================] - 0s 17ms/step - loss: 2.5913 - accuracy: 0.1509\n",
      "Epoch 62/200\n",
      "2/2 [==============================] - 0s 0s/step - loss: 2.5774 - accuracy: 0.1509\n",
      "Epoch 63/200\n",
      "2/2 [==============================] - 0s 0s/step - loss: 2.5630 - accuracy: 0.1509\n",
      "Epoch 64/200\n",
      "2/2 [==============================] - 0s 0s/step - loss: 2.5484 - accuracy: 0.1509\n",
      "Epoch 65/200\n",
      "2/2 [==============================] - 0s 17ms/step - loss: 2.5342 - accuracy: 0.1509\n",
      "Epoch 66/200\n",
      "2/2 [==============================] - 0s 10ms/step - loss: 2.5211 - accuracy: 0.1509\n",
      "Epoch 67/200\n",
      "2/2 [==============================] - 0s 0s/step - loss: 2.5054 - accuracy: 0.1509\n",
      "Epoch 68/200\n",
      "2/2 [==============================] - 0s 1ms/step - loss: 2.4906 - accuracy: 0.1698\n",
      "Epoch 69/200\n",
      "2/2 [==============================] - 0s 16ms/step - loss: 2.4764 - accuracy: 0.1698\n",
      "Epoch 70/200\n",
      "2/2 [==============================] - 0s 0s/step - loss: 2.4623 - accuracy: 0.1887\n",
      "Epoch 71/200\n",
      "2/2 [==============================] - 0s 0s/step - loss: 2.4472 - accuracy: 0.1887\n",
      "Epoch 72/200\n",
      "2/2 [==============================] - 0s 1ms/step - loss: 2.4315 - accuracy: 0.2642\n",
      "Epoch 73/200\n",
      "2/2 [==============================] - 0s 16ms/step - loss: 2.4167 - accuracy: 0.2453\n",
      "Epoch 74/200\n",
      "2/2 [==============================] - 0s 10ms/step - loss: 2.4018 - accuracy: 0.2075\n",
      "Epoch 75/200\n",
      "2/2 [==============================] - 0s 0s/step - loss: 2.3860 - accuracy: 0.2075\n",
      "Epoch 76/200\n",
      "2/2 [==============================] - 0s 672us/step - loss: 2.3704 - accuracy: 0.2075\n",
      "Epoch 77/200\n",
      "2/2 [==============================] - 0s 17ms/step - loss: 2.3554 - accuracy: 0.2075\n",
      "Epoch 78/200\n",
      "2/2 [==============================] - 0s 0s/step - loss: 2.3404 - accuracy: 0.1887\n",
      "Epoch 79/200\n",
      "2/2 [==============================] - 0s 0s/step - loss: 2.3254 - accuracy: 0.2075\n",
      "Epoch 80/200\n",
      "2/2 [==============================] - 0s 841us/step - loss: 2.3088 - accuracy: 0.2075\n",
      "Epoch 81/200\n",
      "2/2 [==============================] - 0s 17ms/step - loss: 2.2935 - accuracy: 0.2264\n",
      "Epoch 82/200\n",
      "2/2 [==============================] - 0s 10ms/step - loss: 2.2774 - accuracy: 0.2264\n",
      "Epoch 83/200\n",
      "2/2 [==============================] - 0s 0s/step - loss: 2.2609 - accuracy: 0.2453\n",
      "Epoch 84/200\n"
     ]
    },
    {
     "name": "stdout",
     "output_type": "stream",
     "text": [
      "2/2 [==============================] - 0s 1ms/step - loss: 2.2458 - accuracy: 0.2453\n",
      "Epoch 85/200\n",
      "2/2 [==============================] - 0s 17ms/step - loss: 2.2295 - accuracy: 0.2453\n",
      "Epoch 86/200\n",
      "2/2 [==============================] - 0s 12ms/step - loss: 2.2132 - accuracy: 0.2453\n",
      "Epoch 87/200\n",
      "2/2 [==============================] - 0s 0s/step - loss: 2.1972 - accuracy: 0.2642\n",
      "Epoch 88/200\n",
      "2/2 [==============================] - 0s 15ms/step - loss: 2.1796 - accuracy: 0.2830\n",
      "Epoch 89/200\n",
      "2/2 [==============================] - 0s 15ms/step - loss: 2.1641 - accuracy: 0.2830\n",
      "Epoch 90/200\n",
      "2/2 [==============================] - 0s 10ms/step - loss: 2.1458 - accuracy: 0.2830\n",
      "Epoch 91/200\n",
      "2/2 [==============================] - 0s 0s/step - loss: 2.1308 - accuracy: 0.3019\n",
      "Epoch 92/200\n",
      "2/2 [==============================] - 0s 17ms/step - loss: 2.1128 - accuracy: 0.3208\n",
      "Epoch 93/200\n",
      "2/2 [==============================] - 0s 0s/step - loss: 2.0944 - accuracy: 0.3208\n",
      "Epoch 94/200\n",
      "2/2 [==============================] - 0s 0s/step - loss: 2.0776 - accuracy: 0.3396\n",
      "Epoch 95/200\n",
      "2/2 [==============================] - 0s 16ms/step - loss: 2.0593 - accuracy: 0.3396\n",
      "Epoch 96/200\n",
      "2/2 [==============================] - 0s 0s/step - loss: 2.0418 - accuracy: 0.3396\n",
      "Epoch 97/200\n",
      "2/2 [==============================] - 0s 813us/step - loss: 2.0248 - accuracy: 0.3774\n",
      "Epoch 98/200\n",
      "2/2 [==============================] - 0s 17ms/step - loss: 2.0065 - accuracy: 0.3774\n",
      "Epoch 99/200\n",
      "2/2 [==============================] - 0s 6ms/step - loss: 1.9874 - accuracy: 0.3774\n",
      "Epoch 100/200\n",
      "2/2 [==============================] - 0s 0s/step - loss: 1.9704 - accuracy: 0.4151\n",
      "Epoch 101/200\n",
      "2/2 [==============================] - 0s 0s/step - loss: 1.9506 - accuracy: 0.3962\n",
      "Epoch 102/200\n",
      "2/2 [==============================] - 0s 17ms/step - loss: 1.9335 - accuracy: 0.3962\n",
      "Epoch 103/200\n",
      "2/2 [==============================] - 0s 0s/step - loss: 1.9151 - accuracy: 0.3962\n",
      "Epoch 104/200\n",
      "2/2 [==============================] - 0s 0s/step - loss: 1.8953 - accuracy: 0.3962\n",
      "Epoch 105/200\n",
      "2/2 [==============================] - 0s 16ms/step - loss: 1.8772 - accuracy: 0.3962\n",
      "Epoch 106/200\n",
      "2/2 [==============================] - 0s 0s/step - loss: 1.8574 - accuracy: 0.3962\n",
      "Epoch 107/200\n",
      "2/2 [==============================] - 0s 0s/step - loss: 1.8397 - accuracy: 0.3962\n",
      "Epoch 108/200\n",
      "2/2 [==============================] - 0s 1ms/step - loss: 1.8196 - accuracy: 0.3962\n",
      "Epoch 109/200\n",
      "2/2 [==============================] - 0s 0s/step - loss: 1.8018 - accuracy: 0.4151\n",
      "Epoch 110/200\n",
      "2/2 [==============================] - 0s 0s/step - loss: 1.7830 - accuracy: 0.4151\n",
      "Epoch 111/200\n",
      "2/2 [==============================] - 0s 17ms/step - loss: 1.7622 - accuracy: 0.4151\n",
      "Epoch 112/200\n",
      "2/2 [==============================] - 0s 15ms/step - loss: 1.7412 - accuracy: 0.4151\n",
      "Epoch 113/200\n",
      "2/2 [==============================] - 0s 0s/step - loss: 1.7209 - accuracy: 0.4340\n",
      "Epoch 114/200\n",
      "2/2 [==============================] - 0s 2ms/step - loss: 1.7012 - accuracy: 0.4528\n",
      "Epoch 115/200\n",
      "2/2 [==============================] - 0s 16ms/step - loss: 1.6806 - accuracy: 0.4717\n",
      "Epoch 116/200\n",
      "2/2 [==============================] - 0s 11ms/step - loss: 1.6624 - accuracy: 0.4717\n",
      "Epoch 117/200\n",
      "2/2 [==============================] - 0s 0s/step - loss: 1.6429 - accuracy: 0.4717\n",
      "Epoch 118/200\n",
      "2/2 [==============================] - 0s 17ms/step - loss: 1.6234 - accuracy: 0.4906\n",
      "Epoch 119/200\n",
      "2/2 [==============================] - 0s 0s/step - loss: 1.6048 - accuracy: 0.5472\n",
      "Epoch 120/200\n",
      "2/2 [==============================] - 0s 0s/step - loss: 1.5841 - accuracy: 0.5472\n",
      "Epoch 121/200\n",
      "2/2 [==============================] - 0s 17ms/step - loss: 1.5650 - accuracy: 0.5660\n",
      "Epoch 122/200\n",
      "2/2 [==============================] - 0s 0s/step - loss: 1.5461 - accuracy: 0.5660\n",
      "Epoch 123/200\n",
      "2/2 [==============================] - 0s 0s/step - loss: 1.5289 - accuracy: 0.5849\n",
      "Epoch 124/200\n",
      "2/2 [==============================] - 0s 17ms/step - loss: 1.5087 - accuracy: 0.5849\n",
      "Epoch 125/200\n",
      "2/2 [==============================] - 0s 6ms/step - loss: 1.4910 - accuracy: 0.5849\n",
      "Epoch 126/200\n",
      "2/2 [==============================] - 0s 0s/step - loss: 1.4715 - accuracy: 0.5849\n",
      "Epoch 127/200\n",
      "2/2 [==============================] - 0s 0s/step - loss: 1.4532 - accuracy: 0.6226\n",
      "Epoch 128/200\n",
      "2/2 [==============================] - 0s 15ms/step - loss: 1.4354 - accuracy: 0.6226\n",
      "Epoch 129/200\n",
      "2/2 [==============================] - 0s 0s/step - loss: 1.4169 - accuracy: 0.6226\n",
      "Epoch 130/200\n",
      "2/2 [==============================] - 0s 731us/step - loss: 1.3992 - accuracy: 0.6226\n",
      "Epoch 131/200\n",
      "2/2 [==============================] - 0s 15ms/step - loss: 1.3822 - accuracy: 0.6226\n",
      "Epoch 132/200\n",
      "2/2 [==============================] - 0s 0s/step - loss: 1.3626 - accuracy: 0.6226\n",
      "Epoch 133/200\n",
      "2/2 [==============================] - 0s 690us/step - loss: 1.3458 - accuracy: 0.6226\n",
      "Epoch 134/200\n",
      "2/2 [==============================] - 0s 5ms/step - loss: 1.3274 - accuracy: 0.6226\n",
      "Epoch 135/200\n",
      "2/2 [==============================] - 0s 0s/step - loss: 1.3100 - accuracy: 0.6415\n",
      "Epoch 136/200\n",
      "2/2 [==============================] - 0s 0s/step - loss: 1.2921 - accuracy: 0.6415\n",
      "Epoch 137/200\n",
      "2/2 [==============================] - 0s 16ms/step - loss: 1.2758 - accuracy: 0.6604\n",
      "Epoch 138/200\n",
      "2/2 [==============================] - 0s 0s/step - loss: 1.2588 - accuracy: 0.6604\n",
      "Epoch 139/200\n",
      "2/2 [==============================] - 0s 0s/step - loss: 1.2425 - accuracy: 0.6792\n",
      "Epoch 140/200\n",
      "2/2 [==============================] - 0s 16ms/step - loss: 1.2252 - accuracy: 0.6792\n",
      "Epoch 141/200\n",
      "2/2 [==============================] - 0s 0s/step - loss: 1.2098 - accuracy: 0.6792\n",
      "Epoch 142/200\n",
      "2/2 [==============================] - 0s 0s/step - loss: 1.1926 - accuracy: 0.6792\n",
      "Epoch 143/200\n",
      "2/2 [==============================] - 0s 5ms/step - loss: 1.1761 - accuracy: 0.6792\n",
      "Epoch 144/200\n",
      "2/2 [==============================] - 0s 0s/step - loss: 1.1608 - accuracy: 0.6792\n",
      "Epoch 145/200\n",
      "2/2 [==============================] - 0s 0s/step - loss: 1.1439 - accuracy: 0.6604\n",
      "Epoch 146/200\n",
      "2/2 [==============================] - 0s 17ms/step - loss: 1.1282 - accuracy: 0.6792\n",
      "Epoch 147/200\n",
      "2/2 [==============================] - 0s 15ms/step - loss: 1.1135 - accuracy: 0.6792\n",
      "Epoch 148/200\n",
      "2/2 [==============================] - 0s 0s/step - loss: 1.0981 - accuracy: 0.6792\n",
      "Epoch 149/200\n",
      "2/2 [==============================] - 0s 0s/step - loss: 1.0825 - accuracy: 0.6792\n",
      "Epoch 150/200\n",
      "2/2 [==============================] - 0s 17ms/step - loss: 1.0678 - accuracy: 0.6792\n",
      "Epoch 151/200\n",
      "2/2 [==============================] - 0s 12ms/step - loss: 1.0533 - accuracy: 0.6981\n",
      "Epoch 152/200\n",
      "2/2 [==============================] - 0s 0s/step - loss: 1.0383 - accuracy: 0.7170\n",
      "Epoch 153/200\n",
      "2/2 [==============================] - 0s 17ms/step - loss: 1.0250 - accuracy: 0.7170\n",
      "Epoch 154/200\n",
      "2/2 [==============================] - 0s 0s/step - loss: 1.0093 - accuracy: 0.7547\n",
      "Epoch 155/200\n",
      "2/2 [==============================] - 0s 0s/step - loss: 0.9951 - accuracy: 0.7736\n",
      "Epoch 156/200\n",
      "2/2 [==============================] - 0s 17ms/step - loss: 0.9826 - accuracy: 0.7925\n",
      "Epoch 157/200\n",
      "2/2 [==============================] - 0s 0s/step - loss: 0.9680 - accuracy: 0.8113\n",
      "Epoch 158/200\n",
      "2/2 [==============================] - 0s 0s/step - loss: 0.9533 - accuracy: 0.7925\n",
      "Epoch 159/200\n",
      "2/2 [==============================] - 0s 17ms/step - loss: 0.9394 - accuracy: 0.7925\n",
      "Epoch 160/200\n",
      "2/2 [==============================] - 0s 5ms/step - loss: 0.9270 - accuracy: 0.7736\n",
      "Epoch 161/200\n",
      "2/2 [==============================] - 0s 17ms/step - loss: 0.9137 - accuracy: 0.7547\n",
      "Epoch 162/200\n",
      "2/2 [==============================] - 0s 17ms/step - loss: 0.9001 - accuracy: 0.7547\n",
      "Epoch 163/200\n",
      "2/2 [==============================] - 0s 0s/step - loss: 0.8888 - accuracy: 0.7547\n",
      "Epoch 164/200\n",
      "2/2 [==============================] - 0s 0s/step - loss: 0.8738 - accuracy: 0.7736\n",
      "Epoch 165/200\n",
      "2/2 [==============================] - 0s 4ms/step - loss: 0.8631 - accuracy: 0.8113\n",
      "Epoch 166/200\n",
      "2/2 [==============================] - 0s 934us/step - loss: 0.8503 - accuracy: 0.8302\n",
      "Epoch 167/200\n"
     ]
    },
    {
     "name": "stdout",
     "output_type": "stream",
     "text": [
      "2/2 [==============================] - 0s 5ms/step - loss: 0.8395 - accuracy: 0.7925\n",
      "Epoch 168/200\n",
      "2/2 [==============================] - 0s 4ms/step - loss: 0.8259 - accuracy: 0.7925\n",
      "Epoch 169/200\n",
      "2/2 [==============================] - 0s 0s/step - loss: 0.8123 - accuracy: 0.8113\n",
      "Epoch 170/200\n",
      "2/2 [==============================] - 0s 0s/step - loss: 0.8003 - accuracy: 0.8302\n",
      "Epoch 171/200\n",
      "2/2 [==============================] - 0s 4ms/step - loss: 0.7888 - accuracy: 0.8302\n",
      "Epoch 172/200\n",
      "2/2 [==============================] - 0s 0s/step - loss: 0.7773 - accuracy: 0.8302\n",
      "Epoch 173/200\n",
      "2/2 [==============================] - 0s 1ms/step - loss: 0.7654 - accuracy: 0.8302\n",
      "Epoch 174/200\n",
      "2/2 [==============================] - 0s 5ms/step - loss: 0.7546 - accuracy: 0.8302\n",
      "Epoch 175/200\n",
      "2/2 [==============================] - 0s 0s/step - loss: 0.7423 - accuracy: 0.8491\n",
      "Epoch 176/200\n",
      "2/2 [==============================] - 0s 6ms/step - loss: 0.7315 - accuracy: 0.8491\n",
      "Epoch 177/200\n",
      "2/2 [==============================] - 0s 5ms/step - loss: 0.7191 - accuracy: 0.8491\n",
      "Epoch 178/200\n",
      "2/2 [==============================] - 0s 11ms/step - loss: 0.7085 - accuracy: 0.8491\n",
      "Epoch 179/200\n",
      "2/2 [==============================] - 0s 0s/step - loss: 0.6975 - accuracy: 0.8679\n",
      "Epoch 180/200\n",
      "2/2 [==============================] - 0s 5ms/step - loss: 0.6875 - accuracy: 0.9245\n",
      "Epoch 181/200\n",
      "2/2 [==============================] - 0s 11ms/step - loss: 0.6758 - accuracy: 0.9245\n",
      "Epoch 182/200\n",
      "2/2 [==============================] - 0s 0s/step - loss: 0.6660 - accuracy: 0.9245\n",
      "Epoch 183/200\n",
      "2/2 [==============================] - 0s 6ms/step - loss: 0.6555 - accuracy: 0.9245\n",
      "Epoch 184/200\n",
      "2/2 [==============================] - 0s 14ms/step - loss: 0.6454 - accuracy: 0.9245\n",
      "Epoch 185/200\n",
      "2/2 [==============================] - 0s 7ms/step - loss: 0.6350 - accuracy: 0.9245\n",
      "Epoch 186/200\n",
      "2/2 [==============================] - 0s 0s/step - loss: 0.6258 - accuracy: 0.9245\n",
      "Epoch 187/200\n",
      "2/2 [==============================] - 0s 2ms/step - loss: 0.6155 - accuracy: 0.9245\n",
      "Epoch 188/200\n",
      "2/2 [==============================] - 0s 5ms/step - loss: 0.6056 - accuracy: 0.9057\n",
      "Epoch 189/200\n",
      "2/2 [==============================] - 0s 9ms/step - loss: 0.5961 - accuracy: 0.9245\n",
      "Epoch 190/200\n",
      "2/2 [==============================] - 0s 1ms/step - loss: 0.5864 - accuracy: 0.9245\n",
      "Epoch 191/200\n",
      "2/2 [==============================] - 0s 6ms/step - loss: 0.5777 - accuracy: 0.9245\n",
      "Epoch 192/200\n",
      "2/2 [==============================] - 0s 10ms/step - loss: 0.5689 - accuracy: 0.9245\n",
      "Epoch 193/200\n",
      "2/2 [==============================] - 0s 7ms/step - loss: 0.5592 - accuracy: 0.9245\n",
      "Epoch 194/200\n",
      "2/2 [==============================] - 0s 5ms/step - loss: 0.5500 - accuracy: 0.9245\n",
      "Epoch 195/200\n",
      "2/2 [==============================] - 0s 10ms/step - loss: 0.5409 - accuracy: 0.9245\n",
      "Epoch 196/200\n",
      "2/2 [==============================] - 0s 930us/step - loss: 0.5331 - accuracy: 0.9245\n",
      "Epoch 197/200\n",
      "2/2 [==============================] - 0s 5ms/step - loss: 0.5254 - accuracy: 0.9623\n",
      "Epoch 198/200\n",
      "2/2 [==============================] - 0s 10ms/step - loss: 0.5168 - accuracy: 0.9623\n",
      "Epoch 199/200\n",
      "2/2 [==============================] - 0s 783us/step - loss: 0.5070 - accuracy: 0.9623\n",
      "Epoch 200/200\n",
      "2/2 [==============================] - 0s 4ms/step - loss: 0.4983 - accuracy: 0.9623\n"
     ]
    }
   ],
   "source": [
    "epochs = 200\n",
    "history = model.fit(padded_sequences, np.array(training_labels), epochs=epochs)"
   ]
  },
  {
   "cell_type": "markdown",
   "metadata": {},
   "source": [
    "<a id='5'></a>\n",
    "## 5. Saving the Model"
   ]
  },
  {
   "cell_type": "code",
   "execution_count": 24,
   "metadata": {},
   "outputs": [
    {
     "name": "stderr",
     "output_type": "stream",
     "text": [
      "WARNING:absl:Found untraced functions such as _update_step_xla while saving (showing 1 of 1). These functions will not be directly callable after loading.\n"
     ]
    },
    {
     "name": "stdout",
     "output_type": "stream",
     "text": [
      "INFO:tensorflow:Assets written to: chat_model\\assets\n"
     ]
    },
    {
     "name": "stderr",
     "output_type": "stream",
     "text": [
      "INFO:tensorflow:Assets written to: chat_model\\assets\n"
     ]
    }
   ],
   "source": [
    "model.save(\"chat_model\")\n",
    "import pickle"
   ]
  },
  {
   "cell_type": "markdown",
   "metadata": {},
   "source": [
    "<a id='5.1'></a>\n",
    "### 5.1. Save the fitted tokenizer and label encoder"
   ]
  },
  {
   "cell_type": "code",
   "execution_count": 25,
   "metadata": {},
   "outputs": [],
   "source": [
    "with open('tokenizer.pickle', 'wb') as handle:\n",
    "    pickle.dump(tokenizer, handle, protocol=pickle.HIGHEST_PROTOCOL)\n",
    "    \n",
    "\n",
    "with open('label_encoder.pickle', 'wb') as ecn_file:\n",
    "    pickle.dump(lbl_encoder, ecn_file, protocol=pickle.HIGHEST_PROTOCOL)"
   ]
  },
  {
   "cell_type": "markdown",
   "metadata": {},
   "source": [
    "<a id='6'></a>\n",
    "## 6. Inference - Simple chat model"
   ]
  },
  {
   "cell_type": "code",
   "execution_count": 26,
   "metadata": {},
   "outputs": [
    {
     "name": "stdout",
     "output_type": "stream",
     "text": [
      "Start messaging with the bot (type quit to stop)!\n"
     ]
    }
   ],
   "source": [
    "import json \n",
    "import numpy as np\n",
    "from tensorflow import keras\n",
    "from sklearn.preprocessing import LabelEncoder\n",
    "\n",
    "import colorama \n",
    "colorama.init()\n",
    "from colorama import Fore, Style, Back\n",
    "\n",
    "import random\n",
    "import pickle\n",
    "\n",
    "with open(r\"E:\\DS workspace\\ML DL Python\\Project\\chat corpus\\chat_corpus - Copy.json\") as file:\n",
    "    data = json.load(file)\n",
    "\n",
    "\n",
    "def chat():\n",
    "    # load trained model\n",
    "    model = keras.models.load_model('chat_model')\n",
    "\n",
    "    # load tokenizer object\n",
    "    with open('tokenizer.pickle', 'rb') as handle:\n",
    "        tokenizer = pickle.load(handle)\n",
    "\n",
    "    # load label encoder object\n",
    "    with open('label_encoder.pickle', 'rb') as enc:\n",
    "        lbl_encoder = pickle.load(enc)\n",
    "\n",
    "    # parameters\n",
    "    max_len = 20\n",
    "    \n",
    "    while True:\n",
    "        print(Fore.LIGHTBLUE_EX + \"User: \" + Style.RESET_ALL, end=\"\")\n",
    "        inp = input()\n",
    "        if inp.lower() == \"quit\":\n",
    "            break\n",
    "\n",
    "        result = model.predict(keras.preprocessing.sequence.pad_sequences(tokenizer.texts_to_sequences([inp]),\n",
    "                                             truncating='post', maxlen=max_len))\n",
    "        tag = lbl_encoder.inverse_transform([np.argmax(result)])\n",
    "\n",
    "        for i in data['chat_corpus']:\n",
    "            if i['tag'] == tag:\n",
    "                print(\"ChatBot:\" + Style.RESET_ALL , np.random.choice(i['responses']))\n",
    "\n",
    "\n",
    "print(\"Start messaging with the bot (type quit to stop)!\" + Style.RESET_ALL)"
   ]
  },
  {
   "cell_type": "markdown",
   "metadata": {},
   "source": [
    "<a id='6.1'></a>\n",
    "### 6.1. Chatbot"
   ]
  },
  {
   "cell_type": "code",
   "execution_count": 27,
   "metadata": {},
   "outputs": [
    {
     "name": "stdout",
     "output_type": "stream",
     "text": [
      "User: hi\n",
      "1/1 [==============================] - 0s 102ms/step\n",
      "ChatBot: Hi there\n",
      "User: im feeling angry\n",
      "1/1 [==============================] - 0s 16ms/step\n",
      "ChatBot: I first want to let you know that you are not alone in your feelings and there is always someone there to help. You can always change your feelings and change your way of thinking by being open to trying to change. You can always make yourself available to learning new things or volunteering so that you can make a purpose for yourself.\n",
      "User: im feeling depressed\n",
      "1/1 [==============================] - 0s 19ms/step\n",
      "ChatBot: If everyone thinks youre worthless, then maybe you need to find new people to hang out with.Seriously, the social context in which a person lives is a big influence in self-esteem.Otherwise, you can go round and round trying to understand why youre not worthless, then go back to the same crowd and be knocked down again.There are many inspirational messages you can find in social media. Maybe read some of the ones which state that no person is worthless, and that everyone has a good purpose to their life.Also, since our culture is so saturated with the belief that if someone doesnt feel good about themselves that this is somehow terrible.Bad feelings are part of living. They are the motivation to remove ourselves from situations and relationships which do us more harm than good.Bad feelings do feel terrible.  Your feeling of worthlessness may be good in the sense of motivating you to find out that you are much better than your feelings today.\n",
      "User: how to deal with anxiety\n",
      "1/1 [==============================] - 0s 31ms/step\n",
      "ChatBot: What you are experiencing is totally normal and these emotions mean you are human! Humans are social creatures who were created to be in connection with others, but sometimes our life experiences or genetics can make that more difficult for some of us.It is possible that these reactions are based on negative reactions you have had with others in the past, maybe your family, or other traumatic interactions with others. It is also possible that they are caused by an underlying condition such as anxiety or depression, which may cause you to be more uncomfortable around others or annoyed by others. Some people are also more bothered by crowded spaces, loud interactions, and the actions of others.Of course you prefer animals (me too!), they provide unconditional love and support, do not judge you, and do not require you to have conversations with them.The fact that you have conversations in your head at night tells me that although you say you do not like people, you are craving some social connection. What is probably the case is that you were never really taught how to interact and have those conversations. The good news is that there is nothing wrong with you, you just need a little help learning how to have these conversations and taking some healthy risks to initiate conversations and that is something that I help many of my clients with in therapy.\n",
      "User: i suffer from low self esteem\n",
      "1/1 [==============================] - 0s 31ms/step\n",
      "ChatBot: If you mean hooked up as having sex with no care for the person, and youd like a girlfriend, then realize relationships require more complex alignment with a partner than being a sex buddy.Pay attention to all your feelings toward a girl so that youll approach someone who attracts you for reasons in addition to sexual allure.Also, the process of knowing someone takes much more time than only to sleep with someone.Have patience and kindness toward yourself while you get to know the qualities which attract you to a potential girlfriend.\n",
      "User: im always anger\n",
      "1/1 [==============================] - 0s 16ms/step\n",
      "ChatBot: Meditation may be able to assist you in dealing and looking at your anger differently. Anger is not usually just anger. Behind our anger may lie rejection, grief, loneliness, a longing to reconnect, etc. When we ignore or repress our anger, we are always ignoring these other emotions as well.Meditation is the midpoint between expressing and repressing anger. It allows us a space to stay present with it as it arises and recognize the many faces of anger. By doing this, we are able to become aware of our feelings to learn more about them and not be swept away by them.Learn more here: https://www.therapybyshannon.com/blog-2/2019/4/26/meditate-to-manage-anger\n",
      "User: how to deal with grief\n",
      "1/1 [==============================] - 0s 32ms/step\n",
      "ChatBot: I am sorry for your loss. I understand the difficulty of needing help and not having financial resources. In some areas, you can dial 211 and find resources in the area that may be free of cost or low cost. In addition, often hospitals and community centers, churches, etc. have support groups. These are often free and many include grief and loss issues. Finally, there are some therapists who work on sliding scales and even sometimes offer pro bono sessions for clients. Hopefully some of these leads work out for you so that you can get the support that you need.\n",
      "User: quit\n"
     ]
    }
   ],
   "source": [
    "chat()"
   ]
  },
  {
   "cell_type": "code",
   "execution_count": null,
   "metadata": {},
   "outputs": [],
   "source": [
    "chat()"
   ]
  },
  {
   "cell_type": "code",
   "execution_count": null,
   "metadata": {},
   "outputs": [],
   "source": []
  },
  {
   "cell_type": "code",
   "execution_count": null,
   "metadata": {},
   "outputs": [],
   "source": []
  },
  {
   "cell_type": "code",
   "execution_count": null,
   "metadata": {},
   "outputs": [],
   "source": []
  },
  {
   "cell_type": "code",
   "execution_count": null,
   "metadata": {},
   "outputs": [],
   "source": []
  },
  {
   "cell_type": "code",
   "execution_count": null,
   "metadata": {},
   "outputs": [],
   "source": []
  },
  {
   "cell_type": "code",
   "execution_count": null,
   "metadata": {},
   "outputs": [],
   "source": []
  },
  {
   "cell_type": "code",
   "execution_count": null,
   "metadata": {},
   "outputs": [],
   "source": []
  },
  {
   "cell_type": "code",
   "execution_count": null,
   "metadata": {},
   "outputs": [],
   "source": []
  },
  {
   "cell_type": "code",
   "execution_count": null,
   "metadata": {},
   "outputs": [],
   "source": []
  },
  {
   "cell_type": "code",
   "execution_count": null,
   "metadata": {},
   "outputs": [],
   "source": []
  },
  {
   "cell_type": "code",
   "execution_count": null,
   "metadata": {},
   "outputs": [],
   "source": []
  },
  {
   "cell_type": "code",
   "execution_count": null,
   "metadata": {},
   "outputs": [],
   "source": []
  },
  {
   "cell_type": "code",
   "execution_count": null,
   "metadata": {},
   "outputs": [],
   "source": []
  }
 ],
 "metadata": {
  "kernelspec": {
   "display_name": "Python 3 (ipykernel)",
   "language": "python",
   "name": "python3"
  },
  "language_info": {
   "codemirror_mode": {
    "name": "ipython",
    "version": 3
   },
   "file_extension": ".py",
   "mimetype": "text/x-python",
   "name": "python",
   "nbconvert_exporter": "python",
   "pygments_lexer": "ipython3",
   "version": "3.9.12"
  },
  "vscode": {
   "interpreter": {
    "hash": "9259a07dd554eb6ab4ff8117c34a6cb0e8fbc34f73d3b82564cac66661cacad6"
   }
  }
 },
 "nbformat": 4,
 "nbformat_minor": 2
}
